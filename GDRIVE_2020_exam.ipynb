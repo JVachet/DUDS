{
  "nbformat": 4,
  "nbformat_minor": 0,
  "metadata": {
    "kernelspec": {
      "display_name": "Python 3",
      "language": "python",
      "name": "python3"
    },
    "language_info": {
      "codemirror_mode": {
        "name": "ipython",
        "version": 3
      },
      "file_extension": ".py",
      "mimetype": "text/x-python",
      "name": "python",
      "nbconvert_exporter": "python",
      "pygments_lexer": "ipython3",
      "version": "3.7.4"
    },
    "colab": {
      "name": "GDRIVE 2020-exam.ipynb",
      "provenance": [],
      "collapsed_sections": [],
      "include_colab_link": true
    }
  },
  "cells": [
    {
      "cell_type": "markdown",
      "metadata": {
        "id": "view-in-github",
        "colab_type": "text"
      },
      "source": [
        "<a href=\"https://colab.research.google.com/github/JVachet/DUDS/blob/master/GDRIVE_2020_exam.ipynb\" target=\"_parent\"><img src=\"https://colab.research.google.com/assets/colab-badge.svg\" alt=\"Open In Colab\"/></a>"
      ]
    },
    {
      "cell_type": "markdown",
      "metadata": {
        "id": "CPHgDeSXXZ3j",
        "colab_type": "text"
      },
      "source": [
        "# Homework pandas"
      ]
    },
    {
      "cell_type": "markdown",
      "metadata": {
        "id": "1PtF4w99XZ3p",
        "colab_type": "text"
      },
      "source": [
        "<table align=\"left\">\n",
        "    <tr>\n",
        "    <td><a href=\"https://colab.research.google.com/github/airnandez/numpandas/blob/master/exam/2020-exam.ipynb\">\n",
        "  <img src=\"https://colab.research.google.com/assets/colab-badge.svg\" alt=\"Open In Colab\"/>\n",
        "</a></td>\n",
        "    <td><a href=\"https://mybinder.org/v2/gh/airnandez/numpandas/master?filepath=exam%2F2020-exam.ipynb\">\n",
        "  <img src=\"https://mybinder.org/badge_logo.svg\" alt=\"Launch Binder\"/>\n",
        "</a></td>\n",
        "  </tr>\n",
        "</table>"
      ]
    },
    {
      "cell_type": "markdown",
      "metadata": {
        "id": "eykI27eNXZ3r",
        "colab_type": "text"
      },
      "source": [
        "*Author: Fabio Hernandez*\n",
        "\n",
        "*Last updated: 2020-03-19*\n",
        "\n",
        "*Location:* https://github.com/airnandez/numpandas/exam"
      ]
    },
    {
      "cell_type": "markdown",
      "metadata": {
        "id": "MuekT-tfXZ3t",
        "colab_type": "text"
      },
      "source": [
        "--------------------\n",
        "## Instructions\n",
        "\n",
        "For this excercise we will use a public dataset titled **\"Demandes de valeurs foncières géolocalisées\"** available [here](https://www.data.gouv.fr/fr/datasets/demandes-de-valeurs-foncieres-geolocalisees/). This dataset contains information about registered real state transactions (_mutations immobilières_) in France over several years. There is a file per year. The structure of the files and the semantics of each column are documented at its source.\n",
        "\n",
        "For your convenience, this notebook is prepared with code for downloading the dataset from its source, loading it into memory as a **pandas** dataframe and with some cleaning and helper functions. Your mission is execute the provided cells and to write the code to answer the questions below.\n",
        "\n",
        "You must not modify the code provided. You must provide code for answering the questions, following the instructions for each one of them.\n",
        "\n",
        "When you have finished, please save your notebook in the form of a `.ipynb` file and send it by e-mail to your instructor according to the indications you received by e-mail."
      ]
    },
    {
      "cell_type": "markdown",
      "metadata": {
        "id": "a524zTtuXZ3x",
        "colab_type": "text"
      },
      "source": [
        "---------------------\n",
        "## Dependencies"
      ]
    },
    {
      "cell_type": "code",
      "metadata": {
        "id": "MXJbQ8m6XZ30",
        "colab_type": "code",
        "colab": {}
      },
      "source": [
        "import datetime\n",
        "import os\n",
        "import glob"
      ],
      "execution_count": 0,
      "outputs": []
    },
    {
      "cell_type": "code",
      "metadata": {
        "id": "ixorBVxdXZ4D",
        "colab_type": "code",
        "outputId": "2d6687cd-e806-4972-80d0-21fc36426c0e",
        "colab": {
          "base_uri": "https://localhost:8080/",
          "height": 34
        }
      },
      "source": [
        "import pandas as pd\n",
        "pd.set_option('display.max_columns', None)\n",
        "pd.__version__"
      ],
      "execution_count": 3,
      "outputs": [
        {
          "output_type": "execute_result",
          "data": {
            "text/plain": [
              "'1.0.3'"
            ]
          },
          "metadata": {
            "tags": []
          },
          "execution_count": 3
        }
      ]
    },
    {
      "cell_type": "code",
      "metadata": {
        "id": "4PYr0BpZXZ4I",
        "colab_type": "code",
        "outputId": "472f3022-63f3-4816-83c9-4849c9d7fcf3",
        "colab": {
          "base_uri": "https://localhost:8080/",
          "height": 34
        }
      },
      "source": [
        "import numpy as np\n",
        "np.__version__"
      ],
      "execution_count": 4,
      "outputs": [
        {
          "output_type": "execute_result",
          "data": {
            "text/plain": [
              "'1.18.2'"
            ]
          },
          "metadata": {
            "tags": []
          },
          "execution_count": 4
        }
      ]
    },
    {
      "cell_type": "markdown",
      "metadata": {
        "id": "nLrhLG6GXZ4N",
        "colab_type": "text"
      },
      "source": [
        "------\n",
        "## Download the dataset"
      ]
    },
    {
      "cell_type": "markdown",
      "metadata": {
        "id": "BHHHRt1tXZ4S",
        "colab_type": "text"
      },
      "source": [
        "Define a helper function for downloading data to a local file:"
      ]
    },
    {
      "cell_type": "code",
      "metadata": {
        "id": "zquf5XeQXZ4V",
        "colab_type": "code",
        "colab": {}
      },
      "source": [
        "import requests\n",
        "import shutil\n",
        "\n",
        "def download_file(url, path):\n",
        "    with requests.get(url, stream=True) as r:\n",
        "        with open(path, 'wb') as f:\n",
        "            shutil.copyfileobj(r.raw, f)\n",
        "    return"
      ],
      "execution_count": 0,
      "outputs": []
    },
    {
      "cell_type": "markdown",
      "metadata": {
        "id": "T9i0K8hqXZ4l",
        "colab_type": "text"
      },
      "source": [
        "Download the data files, one per year, for the period 2014-2019, both inclusive. We store the downloaded data in the directory `../data` relative to the location of this notebook. If a file has been already been downloaded, don't download it again. The total amount of data to download is about 400 MB."
      ]
    },
    {
      "cell_type": "code",
      "metadata": {
        "id": "RoEQ6WWXXZ4n",
        "colab_type": "code",
        "outputId": "ae4129a2-ac47-4996-d737-0ef3b4018c16",
        "colab": {
          "base_uri": "https://localhost:8080/",
          "height": 119
        }
      },
      "source": [
        "# Create destination directory\n",
        "os.makedirs(os.path.join('..', 'data'), exist_ok=True)\n",
        "\n",
        "# Download files\n",
        "data_source = \"https://cadastre.data.gouv.fr/data/etalab-dvf/latest/csv\"\n",
        "\n",
        "for year in range(2014, 2020):\n",
        "    # Build the URL and the destination file path\n",
        "    url = f'{data_source}/{year}/full.csv.gz'\n",
        "    path = os.path.join('..', 'data', f'{year}-mutations-immobilieres.csv.gz')\n",
        "    \n",
        "    # If file already exists don't download it again\n",
        "    if not os.path.isfile(path) :\n",
        "        print(f'downloading {url} to {path}')\n",
        "        download_file(url, path)"
      ],
      "execution_count": 6,
      "outputs": [
        {
          "output_type": "stream",
          "text": [
            "downloading https://cadastre.data.gouv.fr/data/etalab-dvf/latest/csv/2014/full.csv.gz to ../data/2014-mutations-immobilieres.csv.gz\n",
            "downloading https://cadastre.data.gouv.fr/data/etalab-dvf/latest/csv/2015/full.csv.gz to ../data/2015-mutations-immobilieres.csv.gz\n",
            "downloading https://cadastre.data.gouv.fr/data/etalab-dvf/latest/csv/2016/full.csv.gz to ../data/2016-mutations-immobilieres.csv.gz\n",
            "downloading https://cadastre.data.gouv.fr/data/etalab-dvf/latest/csv/2017/full.csv.gz to ../data/2017-mutations-immobilieres.csv.gz\n",
            "downloading https://cadastre.data.gouv.fr/data/etalab-dvf/latest/csv/2018/full.csv.gz to ../data/2018-mutations-immobilieres.csv.gz\n",
            "downloading https://cadastre.data.gouv.fr/data/etalab-dvf/latest/csv/2019/full.csv.gz to ../data/2019-mutations-immobilieres.csv.gz\n"
          ],
          "name": "stdout"
        }
      ]
    },
    {
      "cell_type": "markdown",
      "metadata": {
        "id": "tQXFobAaXZ4s",
        "colab_type": "text"
      },
      "source": [
        "Check what files we have for our analysis:"
      ]
    },
    {
      "cell_type": "code",
      "metadata": {
        "id": "xRM-x-YXXZ4t",
        "colab_type": "code",
        "outputId": "0e9f0d67-2706-414c-c003-4158ce25b252",
        "colab": {
          "base_uri": "https://localhost:8080/",
          "height": 119
        }
      },
      "source": [
        "file_paths = glob.glob(os.path.join('..', 'data', '*-mutations-immobilieres.csv.gz'))\n",
        "print('\\n'.join(f for f in file_paths))"
      ],
      "execution_count": 7,
      "outputs": [
        {
          "output_type": "stream",
          "text": [
            "../data/2015-mutations-immobilieres.csv.gz\n",
            "../data/2016-mutations-immobilieres.csv.gz\n",
            "../data/2018-mutations-immobilieres.csv.gz\n",
            "../data/2014-mutations-immobilieres.csv.gz\n",
            "../data/2019-mutations-immobilieres.csv.gz\n",
            "../data/2017-mutations-immobilieres.csv.gz\n"
          ],
          "name": "stdout"
        }
      ]
    },
    {
      "cell_type": "markdown",
      "metadata": {
        "id": "taK7uOqAXZ41",
        "colab_type": "text"
      },
      "source": [
        "---------------------\n",
        "## Load the dataset\n",
        "\n",
        "Load the dataset (i.e. all the files `../data/*-mutations-immobilieres.csv.gz`) to a **pandas** dataframe. Here we select the columns we want to load. The information about the format and contents of each column is available [here](https://www.data.gouv.fr/fr/datasets/demandes-de-valeurs-foncieres-geolocalisees/). Please make sure you are familiar with that information which you will need for analysing the data:"
      ]
    },
    {
      "cell_type": "code",
      "metadata": {
        "id": "AXZP5fuvXZ45",
        "colab_type": "code",
        "colab": {}
      },
      "source": [
        "# These are the names of the columns present in the source files.\n",
        "# We are not interested in analysing the commented columns, so we don't tell\n",
        "# pandas to not load them\n",
        "columns = (\n",
        "    'id_mutation',\n",
        "    'date_mutation',\n",
        "    'numero_disposition',\n",
        "    'nature_mutation',\n",
        "    'valeur_fonciere',\n",
        "    'adresse_numero',\n",
        "    'adresse_suffixe',\n",
        "    'adresse_nom_voie',\n",
        "    'adresse_code_voie',\n",
        "    'code_postal',\n",
        "    'code_commune',\n",
        "    'nom_commune',\n",
        "    'code_departement',\n",
        "#   'ancien_code_commune',\n",
        "#   'ancien_nom_commune',\n",
        "#   'id_parcelle',\n",
        "#   'ancien_id_parcelle',\n",
        "#   'numero_volume',\n",
        "    'lot1_numero',\n",
        "    'lot1_surface_carrez',\n",
        "    'lot2_numero',\n",
        "    'lot2_surface_carrez',\n",
        "    'lot3_numero',\n",
        "    'lot3_surface_carrez',\n",
        "    'lot4_numero',\n",
        "    'lot4_surface_carrez',\n",
        "    'lot5_numero',\n",
        "    'lot5_surface_carrez',\n",
        "    'nombre_lots',\n",
        "    'code_type_local',\n",
        "    'type_local',\n",
        "    'surface_reelle_bati',\n",
        "    'nombre_pieces_principales',\n",
        "#   'code_nature_culture',\n",
        "    'nature_culture',\n",
        "#   'code_nature_culture_speciale',\n",
        "#   'nature_culture_speciale',\n",
        "    'surface_terrain',\n",
        "#   'longitude',\n",
        "#   'latitude'\n",
        ")\n",
        "\n",
        "# These are the types we want pandas to use for each column\n",
        "column_types = {\n",
        "    'id_mutation': object,\n",
        "    'adresse_suffixe': str,\n",
        "    'adresse_numero': str,\n",
        "    'adresse_suffixe': str,\n",
        "    'adresse_nom_voie': str,\n",
        "    'adresse_code_voie': str,\n",
        "    'code_postal': str,\n",
        "    'code_commune': str,\n",
        "    'code_departement': str,\n",
        "    'ancien_code_commune': str,\n",
        "    'ancien_nom_commune': str,\n",
        "    'id_parcelle': str,\n",
        "    'ancien_id_parcelle': str,\n",
        "    'lot1_numero': str,\n",
        "    'lot2_numero': str,\n",
        "    'lot3_numero': str,\n",
        "    'lot4_numero': str,\n",
        "    'lot5_numero': str,\n",
        "    'code_type_local': str,\n",
        "    'type_local': str,\n",
        "}"
      ],
      "execution_count": 0,
      "outputs": []
    },
    {
      "cell_type": "code",
      "metadata": {
        "id": "yOdVP4e3XZ5G",
        "colab_type": "code",
        "outputId": "de008382-6152-4856-853f-a84f4f89e273",
        "colab": {
          "base_uri": "https://localhost:8080/",
          "height": 119
        }
      },
      "source": [
        "# Explicitly delete our existing dataframe, if any\n",
        "try:\n",
        "    del df\n",
        "except NameError:\n",
        "    pass\n",
        "\n",
        "file_paths = glob.glob(os.path.join('..', 'data', '*-mutations-immobilieres.csv.gz'))\n",
        "df = pd.DataFrame()\n",
        "for path in sorted(file_paths):\n",
        "    print(f'Loading {path}')\n",
        "    df = df.append(pd.read_csv(path, usecols=columns, dtype=column_types, parse_dates=['date_mutation']))"
      ],
      "execution_count": 9,
      "outputs": [
        {
          "output_type": "stream",
          "text": [
            "Loading ../data/2014-mutations-immobilieres.csv.gz\n",
            "Loading ../data/2015-mutations-immobilieres.csv.gz\n",
            "Loading ../data/2016-mutations-immobilieres.csv.gz\n",
            "Loading ../data/2017-mutations-immobilieres.csv.gz\n",
            "Loading ../data/2018-mutations-immobilieres.csv.gz\n",
            "Loading ../data/2019-mutations-immobilieres.csv.gz\n"
          ],
          "name": "stdout"
        }
      ]
    },
    {
      "cell_type": "code",
      "metadata": {
        "id": "Psey2PRKXZ5Q",
        "colab_type": "code",
        "outputId": "5a4bad81-0422-48e4-9ebc-34840b75918b",
        "colab": {
          "base_uri": "https://localhost:8080/",
          "height": 34
        }
      },
      "source": [
        "# Inspect the dimensions of the dataframe\n",
        "rows, columns = df.shape\n",
        "print(f'This dataframe has {rows:,} rows and {columns:,} columns')"
      ],
      "execution_count": 10,
      "outputs": [
        {
          "output_type": "stream",
          "text": [
            "This dataframe has 15,657,831 rows and 30 columns\n"
          ],
          "name": "stdout"
        }
      ]
    },
    {
      "cell_type": "code",
      "metadata": {
        "id": "QrX1i9X-XZ5X",
        "colab_type": "code",
        "outputId": "bca92997-96bf-4db4-c7ef-9599bbdb3739",
        "colab": {
          "base_uri": "https://localhost:8080/",
          "height": 532
        }
      },
      "source": [
        "df.head(10)"
      ],
      "execution_count": 11,
      "outputs": [
        {
          "output_type": "execute_result",
          "data": {
            "text/html": [
              "<div>\n",
              "<style scoped>\n",
              "    .dataframe tbody tr th:only-of-type {\n",
              "        vertical-align: middle;\n",
              "    }\n",
              "\n",
              "    .dataframe tbody tr th {\n",
              "        vertical-align: top;\n",
              "    }\n",
              "\n",
              "    .dataframe thead th {\n",
              "        text-align: right;\n",
              "    }\n",
              "</style>\n",
              "<table border=\"1\" class=\"dataframe\">\n",
              "  <thead>\n",
              "    <tr style=\"text-align: right;\">\n",
              "      <th></th>\n",
              "      <th>id_mutation</th>\n",
              "      <th>date_mutation</th>\n",
              "      <th>numero_disposition</th>\n",
              "      <th>nature_mutation</th>\n",
              "      <th>valeur_fonciere</th>\n",
              "      <th>adresse_numero</th>\n",
              "      <th>adresse_suffixe</th>\n",
              "      <th>adresse_nom_voie</th>\n",
              "      <th>adresse_code_voie</th>\n",
              "      <th>code_postal</th>\n",
              "      <th>code_commune</th>\n",
              "      <th>nom_commune</th>\n",
              "      <th>code_departement</th>\n",
              "      <th>lot1_numero</th>\n",
              "      <th>lot1_surface_carrez</th>\n",
              "      <th>lot2_numero</th>\n",
              "      <th>lot2_surface_carrez</th>\n",
              "      <th>lot3_numero</th>\n",
              "      <th>lot3_surface_carrez</th>\n",
              "      <th>lot4_numero</th>\n",
              "      <th>lot4_surface_carrez</th>\n",
              "      <th>lot5_numero</th>\n",
              "      <th>lot5_surface_carrez</th>\n",
              "      <th>nombre_lots</th>\n",
              "      <th>code_type_local</th>\n",
              "      <th>type_local</th>\n",
              "      <th>surface_reelle_bati</th>\n",
              "      <th>nombre_pieces_principales</th>\n",
              "      <th>nature_culture</th>\n",
              "      <th>surface_terrain</th>\n",
              "    </tr>\n",
              "  </thead>\n",
              "  <tbody>\n",
              "    <tr>\n",
              "      <th>0</th>\n",
              "      <td>2014-1</td>\n",
              "      <td>2014-01-09</td>\n",
              "      <td>1</td>\n",
              "      <td>Vente</td>\n",
              "      <td>251500.0</td>\n",
              "      <td>532</td>\n",
              "      <td>NaN</td>\n",
              "      <td>RTE DE MEZERIAT</td>\n",
              "      <td>0006</td>\n",
              "      <td>01310</td>\n",
              "      <td>01301</td>\n",
              "      <td>Polliat</td>\n",
              "      <td>01</td>\n",
              "      <td>NaN</td>\n",
              "      <td>NaN</td>\n",
              "      <td>NaN</td>\n",
              "      <td>NaN</td>\n",
              "      <td>NaN</td>\n",
              "      <td>NaN</td>\n",
              "      <td>NaN</td>\n",
              "      <td>NaN</td>\n",
              "      <td>NaN</td>\n",
              "      <td>NaN</td>\n",
              "      <td>0</td>\n",
              "      <td>1</td>\n",
              "      <td>Maison</td>\n",
              "      <td>147.0</td>\n",
              "      <td>5.0</td>\n",
              "      <td>sols</td>\n",
              "      <td>1501.0</td>\n",
              "    </tr>\n",
              "    <tr>\n",
              "      <th>1</th>\n",
              "      <td>2014-2</td>\n",
              "      <td>2014-01-09</td>\n",
              "      <td>1</td>\n",
              "      <td>Vente</td>\n",
              "      <td>174500.0</td>\n",
              "      <td>22</td>\n",
              "      <td>NaN</td>\n",
              "      <td>BD MAL LECLERC</td>\n",
              "      <td>2540</td>\n",
              "      <td>01000</td>\n",
              "      <td>01053</td>\n",
              "      <td>Bourg-en-Bresse</td>\n",
              "      <td>01</td>\n",
              "      <td>36</td>\n",
              "      <td>NaN</td>\n",
              "      <td>NaN</td>\n",
              "      <td>NaN</td>\n",
              "      <td>NaN</td>\n",
              "      <td>NaN</td>\n",
              "      <td>NaN</td>\n",
              "      <td>NaN</td>\n",
              "      <td>NaN</td>\n",
              "      <td>NaN</td>\n",
              "      <td>1</td>\n",
              "      <td>3</td>\n",
              "      <td>Dépendance</td>\n",
              "      <td>NaN</td>\n",
              "      <td>0.0</td>\n",
              "      <td>NaN</td>\n",
              "      <td>NaN</td>\n",
              "    </tr>\n",
              "    <tr>\n",
              "      <th>2</th>\n",
              "      <td>2014-2</td>\n",
              "      <td>2014-01-09</td>\n",
              "      <td>1</td>\n",
              "      <td>Vente</td>\n",
              "      <td>174500.0</td>\n",
              "      <td>22</td>\n",
              "      <td>NaN</td>\n",
              "      <td>BD MAL LECLERC</td>\n",
              "      <td>2540</td>\n",
              "      <td>01000</td>\n",
              "      <td>01053</td>\n",
              "      <td>Bourg-en-Bresse</td>\n",
              "      <td>01</td>\n",
              "      <td>49</td>\n",
              "      <td>94.22</td>\n",
              "      <td>6</td>\n",
              "      <td>NaN</td>\n",
              "      <td>NaN</td>\n",
              "      <td>NaN</td>\n",
              "      <td>NaN</td>\n",
              "      <td>NaN</td>\n",
              "      <td>NaN</td>\n",
              "      <td>NaN</td>\n",
              "      <td>2</td>\n",
              "      <td>2</td>\n",
              "      <td>Appartement</td>\n",
              "      <td>80.0</td>\n",
              "      <td>2.0</td>\n",
              "      <td>NaN</td>\n",
              "      <td>NaN</td>\n",
              "    </tr>\n",
              "    <tr>\n",
              "      <th>3</th>\n",
              "      <td>2014-3</td>\n",
              "      <td>2014-01-02</td>\n",
              "      <td>1</td>\n",
              "      <td>Vente</td>\n",
              "      <td>157500.0</td>\n",
              "      <td>1389</td>\n",
              "      <td>NaN</td>\n",
              "      <td>RTE DE STRASBOURG</td>\n",
              "      <td>0201</td>\n",
              "      <td>01440</td>\n",
              "      <td>01451</td>\n",
              "      <td>Viriat</td>\n",
              "      <td>01</td>\n",
              "      <td>NaN</td>\n",
              "      <td>NaN</td>\n",
              "      <td>NaN</td>\n",
              "      <td>NaN</td>\n",
              "      <td>NaN</td>\n",
              "      <td>NaN</td>\n",
              "      <td>NaN</td>\n",
              "      <td>NaN</td>\n",
              "      <td>NaN</td>\n",
              "      <td>NaN</td>\n",
              "      <td>0</td>\n",
              "      <td>NaN</td>\n",
              "      <td>NaN</td>\n",
              "      <td>NaN</td>\n",
              "      <td>NaN</td>\n",
              "      <td>sols</td>\n",
              "      <td>24.0</td>\n",
              "    </tr>\n",
              "    <tr>\n",
              "      <th>4</th>\n",
              "      <td>2014-3</td>\n",
              "      <td>2014-01-02</td>\n",
              "      <td>1</td>\n",
              "      <td>Vente</td>\n",
              "      <td>157500.0</td>\n",
              "      <td>1369</td>\n",
              "      <td>NaN</td>\n",
              "      <td>RTE DE STRASBOURG</td>\n",
              "      <td>0201</td>\n",
              "      <td>01440</td>\n",
              "      <td>01451</td>\n",
              "      <td>Viriat</td>\n",
              "      <td>01</td>\n",
              "      <td>NaN</td>\n",
              "      <td>NaN</td>\n",
              "      <td>NaN</td>\n",
              "      <td>NaN</td>\n",
              "      <td>NaN</td>\n",
              "      <td>NaN</td>\n",
              "      <td>NaN</td>\n",
              "      <td>NaN</td>\n",
              "      <td>NaN</td>\n",
              "      <td>NaN</td>\n",
              "      <td>0</td>\n",
              "      <td>1</td>\n",
              "      <td>Maison</td>\n",
              "      <td>103.0</td>\n",
              "      <td>4.0</td>\n",
              "      <td>sols</td>\n",
              "      <td>1569.0</td>\n",
              "    </tr>\n",
              "    <tr>\n",
              "      <th>5</th>\n",
              "      <td>2014-4</td>\n",
              "      <td>2014-01-06</td>\n",
              "      <td>2</td>\n",
              "      <td>Vente</td>\n",
              "      <td>280.5</td>\n",
              "      <td>NaN</td>\n",
              "      <td>NaN</td>\n",
              "      <td>AUX RAVETTES</td>\n",
              "      <td>B205</td>\n",
              "      <td>01250</td>\n",
              "      <td>01447</td>\n",
              "      <td>Villereversure</td>\n",
              "      <td>01</td>\n",
              "      <td>NaN</td>\n",
              "      <td>NaN</td>\n",
              "      <td>NaN</td>\n",
              "      <td>NaN</td>\n",
              "      <td>NaN</td>\n",
              "      <td>NaN</td>\n",
              "      <td>NaN</td>\n",
              "      <td>NaN</td>\n",
              "      <td>NaN</td>\n",
              "      <td>NaN</td>\n",
              "      <td>0</td>\n",
              "      <td>NaN</td>\n",
              "      <td>NaN</td>\n",
              "      <td>NaN</td>\n",
              "      <td>NaN</td>\n",
              "      <td>prés</td>\n",
              "      <td>535.0</td>\n",
              "    </tr>\n",
              "    <tr>\n",
              "      <th>6</th>\n",
              "      <td>2014-5</td>\n",
              "      <td>2014-01-07</td>\n",
              "      <td>1</td>\n",
              "      <td>Vente</td>\n",
              "      <td>90000.0</td>\n",
              "      <td>4</td>\n",
              "      <td>NaN</td>\n",
              "      <td>RUE GEN DELESTRAINT</td>\n",
              "      <td>1650</td>\n",
              "      <td>01000</td>\n",
              "      <td>01053</td>\n",
              "      <td>Bourg-en-Bresse</td>\n",
              "      <td>01</td>\n",
              "      <td>6</td>\n",
              "      <td>NaN</td>\n",
              "      <td>NaN</td>\n",
              "      <td>NaN</td>\n",
              "      <td>NaN</td>\n",
              "      <td>NaN</td>\n",
              "      <td>NaN</td>\n",
              "      <td>NaN</td>\n",
              "      <td>NaN</td>\n",
              "      <td>NaN</td>\n",
              "      <td>1</td>\n",
              "      <td>3</td>\n",
              "      <td>Dépendance</td>\n",
              "      <td>NaN</td>\n",
              "      <td>0.0</td>\n",
              "      <td>NaN</td>\n",
              "      <td>NaN</td>\n",
              "    </tr>\n",
              "    <tr>\n",
              "      <th>7</th>\n",
              "      <td>2014-5</td>\n",
              "      <td>2014-01-07</td>\n",
              "      <td>1</td>\n",
              "      <td>Vente</td>\n",
              "      <td>90000.0</td>\n",
              "      <td>4</td>\n",
              "      <td>NaN</td>\n",
              "      <td>RUE GEN DELESTRAINT</td>\n",
              "      <td>1650</td>\n",
              "      <td>01000</td>\n",
              "      <td>01053</td>\n",
              "      <td>Bourg-en-Bresse</td>\n",
              "      <td>01</td>\n",
              "      <td>22</td>\n",
              "      <td>NaN</td>\n",
              "      <td>NaN</td>\n",
              "      <td>NaN</td>\n",
              "      <td>NaN</td>\n",
              "      <td>NaN</td>\n",
              "      <td>NaN</td>\n",
              "      <td>NaN</td>\n",
              "      <td>NaN</td>\n",
              "      <td>NaN</td>\n",
              "      <td>1</td>\n",
              "      <td>2</td>\n",
              "      <td>Appartement</td>\n",
              "      <td>61.0</td>\n",
              "      <td>2.0</td>\n",
              "      <td>NaN</td>\n",
              "      <td>NaN</td>\n",
              "    </tr>\n",
              "    <tr>\n",
              "      <th>8</th>\n",
              "      <td>2014-6</td>\n",
              "      <td>2014-01-11</td>\n",
              "      <td>1</td>\n",
              "      <td>Vente</td>\n",
              "      <td>370000.0</td>\n",
              "      <td>215</td>\n",
              "      <td>NaN</td>\n",
              "      <td>RTE DE LA GRANDE VAVRETTE</td>\n",
              "      <td>0260</td>\n",
              "      <td>01250</td>\n",
              "      <td>01422</td>\n",
              "      <td>Tossiat</td>\n",
              "      <td>01</td>\n",
              "      <td>NaN</td>\n",
              "      <td>NaN</td>\n",
              "      <td>NaN</td>\n",
              "      <td>NaN</td>\n",
              "      <td>NaN</td>\n",
              "      <td>NaN</td>\n",
              "      <td>NaN</td>\n",
              "      <td>NaN</td>\n",
              "      <td>NaN</td>\n",
              "      <td>NaN</td>\n",
              "      <td>0</td>\n",
              "      <td>1</td>\n",
              "      <td>Maison</td>\n",
              "      <td>220.0</td>\n",
              "      <td>8.0</td>\n",
              "      <td>sols</td>\n",
              "      <td>880.0</td>\n",
              "    </tr>\n",
              "    <tr>\n",
              "      <th>9</th>\n",
              "      <td>2014-6</td>\n",
              "      <td>2014-01-11</td>\n",
              "      <td>1</td>\n",
              "      <td>Vente</td>\n",
              "      <td>370000.0</td>\n",
              "      <td>NaN</td>\n",
              "      <td>NaN</td>\n",
              "      <td>A LA BALETTE</td>\n",
              "      <td>B002</td>\n",
              "      <td>01250</td>\n",
              "      <td>01422</td>\n",
              "      <td>Tossiat</td>\n",
              "      <td>01</td>\n",
              "      <td>NaN</td>\n",
              "      <td>NaN</td>\n",
              "      <td>NaN</td>\n",
              "      <td>NaN</td>\n",
              "      <td>NaN</td>\n",
              "      <td>NaN</td>\n",
              "      <td>NaN</td>\n",
              "      <td>NaN</td>\n",
              "      <td>NaN</td>\n",
              "      <td>NaN</td>\n",
              "      <td>0</td>\n",
              "      <td>NaN</td>\n",
              "      <td>NaN</td>\n",
              "      <td>NaN</td>\n",
              "      <td>NaN</td>\n",
              "      <td>prés</td>\n",
              "      <td>437.0</td>\n",
              "    </tr>\n",
              "  </tbody>\n",
              "</table>\n",
              "</div>"
            ],
            "text/plain": [
              "  id_mutation date_mutation  numero_disposition nature_mutation  \\\n",
              "0      2014-1    2014-01-09                   1           Vente   \n",
              "1      2014-2    2014-01-09                   1           Vente   \n",
              "2      2014-2    2014-01-09                   1           Vente   \n",
              "3      2014-3    2014-01-02                   1           Vente   \n",
              "4      2014-3    2014-01-02                   1           Vente   \n",
              "5      2014-4    2014-01-06                   2           Vente   \n",
              "6      2014-5    2014-01-07                   1           Vente   \n",
              "7      2014-5    2014-01-07                   1           Vente   \n",
              "8      2014-6    2014-01-11                   1           Vente   \n",
              "9      2014-6    2014-01-11                   1           Vente   \n",
              "\n",
              "   valeur_fonciere adresse_numero adresse_suffixe           adresse_nom_voie  \\\n",
              "0         251500.0            532             NaN            RTE DE MEZERIAT   \n",
              "1         174500.0             22             NaN             BD MAL LECLERC   \n",
              "2         174500.0             22             NaN             BD MAL LECLERC   \n",
              "3         157500.0           1389             NaN          RTE DE STRASBOURG   \n",
              "4         157500.0           1369             NaN          RTE DE STRASBOURG   \n",
              "5            280.5            NaN             NaN               AUX RAVETTES   \n",
              "6          90000.0              4             NaN        RUE GEN DELESTRAINT   \n",
              "7          90000.0              4             NaN        RUE GEN DELESTRAINT   \n",
              "8         370000.0            215             NaN  RTE DE LA GRANDE VAVRETTE   \n",
              "9         370000.0            NaN             NaN               A LA BALETTE   \n",
              "\n",
              "  adresse_code_voie code_postal code_commune      nom_commune  \\\n",
              "0              0006       01310        01301          Polliat   \n",
              "1              2540       01000        01053  Bourg-en-Bresse   \n",
              "2              2540       01000        01053  Bourg-en-Bresse   \n",
              "3              0201       01440        01451           Viriat   \n",
              "4              0201       01440        01451           Viriat   \n",
              "5              B205       01250        01447   Villereversure   \n",
              "6              1650       01000        01053  Bourg-en-Bresse   \n",
              "7              1650       01000        01053  Bourg-en-Bresse   \n",
              "8              0260       01250        01422          Tossiat   \n",
              "9              B002       01250        01422          Tossiat   \n",
              "\n",
              "  code_departement lot1_numero  lot1_surface_carrez lot2_numero  \\\n",
              "0               01         NaN                  NaN         NaN   \n",
              "1               01          36                  NaN         NaN   \n",
              "2               01          49                94.22           6   \n",
              "3               01         NaN                  NaN         NaN   \n",
              "4               01         NaN                  NaN         NaN   \n",
              "5               01         NaN                  NaN         NaN   \n",
              "6               01           6                  NaN         NaN   \n",
              "7               01          22                  NaN         NaN   \n",
              "8               01         NaN                  NaN         NaN   \n",
              "9               01         NaN                  NaN         NaN   \n",
              "\n",
              "   lot2_surface_carrez lot3_numero  lot3_surface_carrez lot4_numero  \\\n",
              "0                  NaN         NaN                  NaN         NaN   \n",
              "1                  NaN         NaN                  NaN         NaN   \n",
              "2                  NaN         NaN                  NaN         NaN   \n",
              "3                  NaN         NaN                  NaN         NaN   \n",
              "4                  NaN         NaN                  NaN         NaN   \n",
              "5                  NaN         NaN                  NaN         NaN   \n",
              "6                  NaN         NaN                  NaN         NaN   \n",
              "7                  NaN         NaN                  NaN         NaN   \n",
              "8                  NaN         NaN                  NaN         NaN   \n",
              "9                  NaN         NaN                  NaN         NaN   \n",
              "\n",
              "   lot4_surface_carrez lot5_numero  lot5_surface_carrez  nombre_lots  \\\n",
              "0                  NaN         NaN                  NaN            0   \n",
              "1                  NaN         NaN                  NaN            1   \n",
              "2                  NaN         NaN                  NaN            2   \n",
              "3                  NaN         NaN                  NaN            0   \n",
              "4                  NaN         NaN                  NaN            0   \n",
              "5                  NaN         NaN                  NaN            0   \n",
              "6                  NaN         NaN                  NaN            1   \n",
              "7                  NaN         NaN                  NaN            1   \n",
              "8                  NaN         NaN                  NaN            0   \n",
              "9                  NaN         NaN                  NaN            0   \n",
              "\n",
              "  code_type_local   type_local  surface_reelle_bati  \\\n",
              "0               1       Maison                147.0   \n",
              "1               3   Dépendance                  NaN   \n",
              "2               2  Appartement                 80.0   \n",
              "3             NaN          NaN                  NaN   \n",
              "4               1       Maison                103.0   \n",
              "5             NaN          NaN                  NaN   \n",
              "6               3   Dépendance                  NaN   \n",
              "7               2  Appartement                 61.0   \n",
              "8               1       Maison                220.0   \n",
              "9             NaN          NaN                  NaN   \n",
              "\n",
              "   nombre_pieces_principales nature_culture  surface_terrain  \n",
              "0                        5.0           sols           1501.0  \n",
              "1                        0.0            NaN              NaN  \n",
              "2                        2.0            NaN              NaN  \n",
              "3                        NaN           sols             24.0  \n",
              "4                        4.0           sols           1569.0  \n",
              "5                        NaN           prés            535.0  \n",
              "6                        0.0            NaN              NaN  \n",
              "7                        2.0            NaN              NaN  \n",
              "8                        8.0           sols            880.0  \n",
              "9                        NaN           prés            437.0  "
            ]
          },
          "metadata": {
            "tags": []
          },
          "execution_count": 11
        }
      ]
    },
    {
      "cell_type": "markdown",
      "metadata": {
        "id": "OdFmR_rLXZ5g",
        "colab_type": "text"
      },
      "source": [
        "### WARNING:"
      ]
    },
    {
      "cell_type": "markdown",
      "metadata": {
        "id": "bkajYJbkXZ5k",
        "colab_type": "text"
      },
      "source": [
        "Please note that there may be several rows for the same transaction. All the rows part of a single transaction have the same identifier (i.e. the same value) in the `id_mutation` column as well as the same value in the column `valeur_fonciere`. For instance, there are two rows with the value `2014-2` in the `id_mutation` column:"
      ]
    },
    {
      "cell_type": "code",
      "metadata": {
        "id": "yLjRsoktXZ5m",
        "colab_type": "code",
        "outputId": "a378e2b6-4dfa-4ff3-d4a6-f81035927904",
        "colab": {
          "base_uri": "https://localhost:8080/",
          "height": 165
        }
      },
      "source": [
        "df[df['id_mutation'] == '2014-2']"
      ],
      "execution_count": 12,
      "outputs": [
        {
          "output_type": "execute_result",
          "data": {
            "text/html": [
              "<div>\n",
              "<style scoped>\n",
              "    .dataframe tbody tr th:only-of-type {\n",
              "        vertical-align: middle;\n",
              "    }\n",
              "\n",
              "    .dataframe tbody tr th {\n",
              "        vertical-align: top;\n",
              "    }\n",
              "\n",
              "    .dataframe thead th {\n",
              "        text-align: right;\n",
              "    }\n",
              "</style>\n",
              "<table border=\"1\" class=\"dataframe\">\n",
              "  <thead>\n",
              "    <tr style=\"text-align: right;\">\n",
              "      <th></th>\n",
              "      <th>id_mutation</th>\n",
              "      <th>date_mutation</th>\n",
              "      <th>numero_disposition</th>\n",
              "      <th>nature_mutation</th>\n",
              "      <th>valeur_fonciere</th>\n",
              "      <th>adresse_numero</th>\n",
              "      <th>adresse_suffixe</th>\n",
              "      <th>adresse_nom_voie</th>\n",
              "      <th>adresse_code_voie</th>\n",
              "      <th>code_postal</th>\n",
              "      <th>code_commune</th>\n",
              "      <th>nom_commune</th>\n",
              "      <th>code_departement</th>\n",
              "      <th>lot1_numero</th>\n",
              "      <th>lot1_surface_carrez</th>\n",
              "      <th>lot2_numero</th>\n",
              "      <th>lot2_surface_carrez</th>\n",
              "      <th>lot3_numero</th>\n",
              "      <th>lot3_surface_carrez</th>\n",
              "      <th>lot4_numero</th>\n",
              "      <th>lot4_surface_carrez</th>\n",
              "      <th>lot5_numero</th>\n",
              "      <th>lot5_surface_carrez</th>\n",
              "      <th>nombre_lots</th>\n",
              "      <th>code_type_local</th>\n",
              "      <th>type_local</th>\n",
              "      <th>surface_reelle_bati</th>\n",
              "      <th>nombre_pieces_principales</th>\n",
              "      <th>nature_culture</th>\n",
              "      <th>surface_terrain</th>\n",
              "    </tr>\n",
              "  </thead>\n",
              "  <tbody>\n",
              "    <tr>\n",
              "      <th>1</th>\n",
              "      <td>2014-2</td>\n",
              "      <td>2014-01-09</td>\n",
              "      <td>1</td>\n",
              "      <td>Vente</td>\n",
              "      <td>174500.0</td>\n",
              "      <td>22</td>\n",
              "      <td>NaN</td>\n",
              "      <td>BD MAL LECLERC</td>\n",
              "      <td>2540</td>\n",
              "      <td>01000</td>\n",
              "      <td>01053</td>\n",
              "      <td>Bourg-en-Bresse</td>\n",
              "      <td>01</td>\n",
              "      <td>36</td>\n",
              "      <td>NaN</td>\n",
              "      <td>NaN</td>\n",
              "      <td>NaN</td>\n",
              "      <td>NaN</td>\n",
              "      <td>NaN</td>\n",
              "      <td>NaN</td>\n",
              "      <td>NaN</td>\n",
              "      <td>NaN</td>\n",
              "      <td>NaN</td>\n",
              "      <td>1</td>\n",
              "      <td>3</td>\n",
              "      <td>Dépendance</td>\n",
              "      <td>NaN</td>\n",
              "      <td>0.0</td>\n",
              "      <td>NaN</td>\n",
              "      <td>NaN</td>\n",
              "    </tr>\n",
              "    <tr>\n",
              "      <th>2</th>\n",
              "      <td>2014-2</td>\n",
              "      <td>2014-01-09</td>\n",
              "      <td>1</td>\n",
              "      <td>Vente</td>\n",
              "      <td>174500.0</td>\n",
              "      <td>22</td>\n",
              "      <td>NaN</td>\n",
              "      <td>BD MAL LECLERC</td>\n",
              "      <td>2540</td>\n",
              "      <td>01000</td>\n",
              "      <td>01053</td>\n",
              "      <td>Bourg-en-Bresse</td>\n",
              "      <td>01</td>\n",
              "      <td>49</td>\n",
              "      <td>94.22</td>\n",
              "      <td>6</td>\n",
              "      <td>NaN</td>\n",
              "      <td>NaN</td>\n",
              "      <td>NaN</td>\n",
              "      <td>NaN</td>\n",
              "      <td>NaN</td>\n",
              "      <td>NaN</td>\n",
              "      <td>NaN</td>\n",
              "      <td>2</td>\n",
              "      <td>2</td>\n",
              "      <td>Appartement</td>\n",
              "      <td>80.0</td>\n",
              "      <td>2.0</td>\n",
              "      <td>NaN</td>\n",
              "      <td>NaN</td>\n",
              "    </tr>\n",
              "  </tbody>\n",
              "</table>\n",
              "</div>"
            ],
            "text/plain": [
              "  id_mutation date_mutation  numero_disposition nature_mutation  \\\n",
              "1      2014-2    2014-01-09                   1           Vente   \n",
              "2      2014-2    2014-01-09                   1           Vente   \n",
              "\n",
              "   valeur_fonciere adresse_numero adresse_suffixe adresse_nom_voie  \\\n",
              "1         174500.0             22             NaN   BD MAL LECLERC   \n",
              "2         174500.0             22             NaN   BD MAL LECLERC   \n",
              "\n",
              "  adresse_code_voie code_postal code_commune      nom_commune  \\\n",
              "1              2540       01000        01053  Bourg-en-Bresse   \n",
              "2              2540       01000        01053  Bourg-en-Bresse   \n",
              "\n",
              "  code_departement lot1_numero  lot1_surface_carrez lot2_numero  \\\n",
              "1               01          36                  NaN         NaN   \n",
              "2               01          49                94.22           6   \n",
              "\n",
              "   lot2_surface_carrez lot3_numero  lot3_surface_carrez lot4_numero  \\\n",
              "1                  NaN         NaN                  NaN         NaN   \n",
              "2                  NaN         NaN                  NaN         NaN   \n",
              "\n",
              "   lot4_surface_carrez lot5_numero  lot5_surface_carrez  nombre_lots  \\\n",
              "1                  NaN         NaN                  NaN            1   \n",
              "2                  NaN         NaN                  NaN            2   \n",
              "\n",
              "  code_type_local   type_local  surface_reelle_bati  \\\n",
              "1               3   Dépendance                  NaN   \n",
              "2               2  Appartement                 80.0   \n",
              "\n",
              "   nombre_pieces_principales nature_culture  surface_terrain  \n",
              "1                        0.0            NaN              NaN  \n",
              "2                        2.0            NaN              NaN  "
            ]
          },
          "metadata": {
            "tags": []
          },
          "execution_count": 12
        }
      ]
    },
    {
      "cell_type": "markdown",
      "metadata": {
        "id": "m1EHepZDXZ5t",
        "colab_type": "text"
      },
      "source": [
        "## Inspect the dataset"
      ]
    },
    {
      "cell_type": "markdown",
      "metadata": {
        "id": "x3-SIe_5XZ5v",
        "colab_type": "text"
      },
      "source": [
        "Let's see what **kind of transactions** are encoded in these records:"
      ]
    },
    {
      "cell_type": "code",
      "metadata": {
        "id": "sQwRHI4mXZ5x",
        "colab_type": "code",
        "outputId": "58451655-6724-4e20-d8aa-276ee963481f",
        "colab": {
          "base_uri": "https://localhost:8080/",
          "height": 119
        }
      },
      "source": [
        "print('\\n'.join(df['nature_mutation'].unique()))"
      ],
      "execution_count": 13,
      "outputs": [
        {
          "output_type": "stream",
          "text": [
            "Vente\n",
            "Echange\n",
            "Vente en l'état futur d'achèvement\n",
            "Vente terrain à bâtir\n",
            "Adjudication\n",
            "Expropriation\n"
          ],
          "name": "stdout"
        }
      ]
    },
    {
      "cell_type": "markdown",
      "metadata": {
        "id": "IdDY6pLjXZ53",
        "colab_type": "text"
      },
      "source": [
        "And what **kind of properties** are these transactions about:"
      ]
    },
    {
      "cell_type": "code",
      "metadata": {
        "id": "QyWd65QcXZ54",
        "colab_type": "code",
        "outputId": "7f0297c8-754d-4bec-ff0c-571e00e9097a",
        "colab": {
          "base_uri": "https://localhost:8080/",
          "height": 102
        }
      },
      "source": [
        "for t in df['type_local'].unique():\n",
        "    print(t)"
      ],
      "execution_count": 14,
      "outputs": [
        {
          "output_type": "stream",
          "text": [
            "Maison\n",
            "Dépendance\n",
            "Appartement\n",
            "nan\n",
            "Local industriel. commercial ou assimilé\n"
          ],
          "name": "stdout"
        }
      ]
    },
    {
      "cell_type": "markdown",
      "metadata": {
        "id": "dUqi3NbfXZ6C",
        "colab_type": "text"
      },
      "source": [
        "### Values for filters\n",
        "Here we define some convenient constants that we can use for building masks:"
      ]
    },
    {
      "cell_type": "code",
      "metadata": {
        "id": "S-M4aougXZ6F",
        "colab_type": "code",
        "colab": {}
      },
      "source": [
        "APPARTMENT = 'Appartement'\n",
        "HOUSE      = 'Maison'\n",
        "BUSINESS   = 'Local industriel. commercial ou assimilé'\n",
        "DEPENDANCE = 'Dépendance'"
      ],
      "execution_count": 0,
      "outputs": []
    },
    {
      "cell_type": "markdown",
      "metadata": {
        "id": "mndpk484XZ6M",
        "colab_type": "text"
      },
      "source": [
        "-------------------\n",
        "# Questions (10 points + bonus)"
      ]
    },
    {
      "cell_type": "markdown",
      "metadata": {
        "id": "5sf43KI6XZ6N",
        "colab_type": "text"
      },
      "source": [
        "---------------------\n",
        "## Question N° 1"
      ]
    },
    {
      "cell_type": "markdown",
      "metadata": {
        "id": "uTf61fObXZ6P",
        "colab_type": "text"
      },
      "source": [
        "### Question 1a (1 point)\n",
        "How many transactions of type sale (i.e. those with value `Vente` in the column `nature_mutation`) were registered in the period covered in the dataset?"
      ]
    },
    {
      "cell_type": "code",
      "metadata": {
        "id": "q5Xeqv0eXZ6R",
        "colab_type": "code",
        "colab": {}
      },
      "source": [
        "# Your code here\n",
        "\n",
        "#On extrait une vue sur les ventes seules car cette vue servira dans d'autrs questions\n",
        "sales = df[df['nature_mutation']=='Vente']\n",
        "\n",
        "sales_count = sales['id_mutation'].count()"
      ],
      "execution_count": 0,
      "outputs": []
    },
    {
      "cell_type": "code",
      "metadata": {
        "id": "PjTWi5f4XZ6a",
        "colab_type": "code",
        "outputId": "bdaff018-93c8-4345-bf02-d10d880c856e",
        "colab": {
          "base_uri": "https://localhost:8080/",
          "height": 34
        }
      },
      "source": [
        "print(f'There are {sales_count:,} sales in the dataset')"
      ],
      "execution_count": 17,
      "outputs": [
        {
          "output_type": "stream",
          "text": [
            "There are 14,138,233 sales in the dataset\n"
          ],
          "name": "stdout"
        }
      ]
    },
    {
      "cell_type": "markdown",
      "metadata": {
        "id": "Pr-6GSOgXZ6h",
        "colab_type": "text"
      },
      "source": [
        "### Question 1b (1 point)\n",
        "How many sales were registered for each kind of property (i.e. `Maison`, `Dépendance`, `Appartement` and `Local industriel`) in the whole period?"
      ]
    },
    {
      "cell_type": "code",
      "metadata": {
        "id": "Q4KSUDtkXZ6j",
        "colab_type": "code",
        "colab": {}
      },
      "source": [
        "# Your code here\n",
        "\n",
        "# Plutot que de partir du DataFrame complet, j'utilise ma vue sur les ventes\n",
        "\n",
        "house_count    = sales[sales['type_local'] == HOUSE]['id_mutation'].count()\n",
        "appt_count     = sales[sales['type_local'] == APPARTMENT]['id_mutation'].count()\n",
        "business_count = sales[sales['type_local'] == BUSINESS]['id_mutation'].count()\n",
        "dependance_count = sales[sales['type_local'] == DEPENDANCE]['id_mutation'].count()"
      ],
      "execution_count": 0,
      "outputs": []
    },
    {
      "cell_type": "code",
      "metadata": {
        "id": "hdneJ5eZXZ6q",
        "colab_type": "code",
        "outputId": "ba8e35b8-09ff-400a-e08f-cce07bac9202",
        "colab": {
          "base_uri": "https://localhost:8080/",
          "height": 119
        }
      },
      "source": [
        "# Determine the period covered in the dataset\n",
        "start_date, end_date = df['date_mutation'].min(), df['date_mutation'].max()\n",
        "\n",
        "# Compute the percentage of sales per kind of object\n",
        "house_pct    = 100.0 * (house_count/sales_count)\n",
        "appt_pct     = 100.0 * (appt_count/sales_count)\n",
        "business_pct = 100.0 * (business_count/sales_count)\n",
        "dependance_pct = 100.0 * (dependance_count/sales_count)\n",
        "\n",
        "# Print the report\n",
        "print(f'Period covered: from {start_date:%Y-%m-%d} to {end_date:%Y-%m-%d}:')\n",
        "print(f'          total:  {sales_count:>10,} sales')\n",
        "print(f'         houses:  {house_count:>10,} ({house_pct:>2.0f}%)')\n",
        "print(f'    appartments:  {appt_count:>10,} ({appt_pct:>2.0f}%)')\n",
        "print(f'       business:  {business_count:>10,} ({business_pct:>2.0f}%)')\n",
        "print(f'     dependance:  {dependance_count:>10,} ({dependance_pct:>2.0f}%)')"
      ],
      "execution_count": 19,
      "outputs": [
        {
          "output_type": "stream",
          "text": [
            "Period covered: from 2014-01-01 to 2019-06-30:\n",
            "          total:  14,138,233 sales\n",
            "         houses:   3,009,883 (21%)\n",
            "    appartments:   2,493,442 (18%)\n",
            "       business:     526,480 ( 4%)\n",
            "     dependance:   1,834,327 (13%)\n"
          ],
          "name": "stdout"
        }
      ]
    },
    {
      "cell_type": "markdown",
      "metadata": {
        "id": "r1LyjovkXZ6t",
        "colab_type": "text"
      },
      "source": [
        "### Question 1c (2 points)\n",
        "What is the total amount of money (in million €) involved in those sales? Please remember that there may be several rows for a single transaction and within a single transaction each row has the same value in the column `valeur_fonciere`. You may want to consider grouping all the rows for the same transaction."
      ]
    },
    {
      "cell_type": "code",
      "metadata": {
        "id": "xBJTkar0XZ6u",
        "colab_type": "code",
        "colab": {}
      },
      "source": [
        "# Your code here\n",
        "# En premier on reduit le dataset aux données nécessaires\n",
        "sales_lite = sales.filter(items=['id_mutation', 'valeur_fonciere'])\n",
        "# sales_lite.head(3)"
      ],
      "execution_count": 0,
      "outputs": []
    },
    {
      "cell_type": "markdown",
      "metadata": {
        "id": "tk4_02Y234Ic",
        "colab_type": "text"
      },
      "source": [
        "Pour regrouper les données par transaction pour que les valeurs ne soient pas doublonnées\n",
        "2 solutions Possibles :\n",
        "1. Faire un groupby, en forçant une fonction d'aggregation , par exemple count(), car sans fonction d'aggregation le group by ne supprime pas les doublons\n",
        "2. utiliser la fonciton drop_duplicates\n",
        "\n",
        "Ici j'utilise le drop_duplicates ,car j'utiliserais l'autre méthode pour sommer les surfaces dans les questions suivantes"
      ]
    },
    {
      "cell_type": "code",
      "metadata": {
        "id": "FEZjCLByIdkW",
        "colab_type": "code",
        "outputId": "36f5d794-42bb-4f91-ad77-7efe52e3ca31",
        "colab": {
          "base_uri": "https://localhost:8080/",
          "height": 359
        }
      },
      "source": [
        "#distinct_sales = sales_lite.groupby(['id_mutation', 'valeur_fonciere'], sort=False)[['id_mutation']].count()\n",
        "\n",
        "distinct_sales = sales_lite.drop_duplicates()\n",
        "distinct_sales.head(10)"
      ],
      "execution_count": 21,
      "outputs": [
        {
          "output_type": "execute_result",
          "data": {
            "text/html": [
              "<div>\n",
              "<style scoped>\n",
              "    .dataframe tbody tr th:only-of-type {\n",
              "        vertical-align: middle;\n",
              "    }\n",
              "\n",
              "    .dataframe tbody tr th {\n",
              "        vertical-align: top;\n",
              "    }\n",
              "\n",
              "    .dataframe thead th {\n",
              "        text-align: right;\n",
              "    }\n",
              "</style>\n",
              "<table border=\"1\" class=\"dataframe\">\n",
              "  <thead>\n",
              "    <tr style=\"text-align: right;\">\n",
              "      <th></th>\n",
              "      <th>id_mutation</th>\n",
              "      <th>valeur_fonciere</th>\n",
              "    </tr>\n",
              "  </thead>\n",
              "  <tbody>\n",
              "    <tr>\n",
              "      <th>0</th>\n",
              "      <td>2014-1</td>\n",
              "      <td>251500.0</td>\n",
              "    </tr>\n",
              "    <tr>\n",
              "      <th>1</th>\n",
              "      <td>2014-2</td>\n",
              "      <td>174500.0</td>\n",
              "    </tr>\n",
              "    <tr>\n",
              "      <th>3</th>\n",
              "      <td>2014-3</td>\n",
              "      <td>157500.0</td>\n",
              "    </tr>\n",
              "    <tr>\n",
              "      <th>5</th>\n",
              "      <td>2014-4</td>\n",
              "      <td>280.5</td>\n",
              "    </tr>\n",
              "    <tr>\n",
              "      <th>6</th>\n",
              "      <td>2014-5</td>\n",
              "      <td>90000.0</td>\n",
              "    </tr>\n",
              "    <tr>\n",
              "      <th>8</th>\n",
              "      <td>2014-6</td>\n",
              "      <td>370000.0</td>\n",
              "    </tr>\n",
              "    <tr>\n",
              "      <th>10</th>\n",
              "      <td>2014-7</td>\n",
              "      <td>95000.0</td>\n",
              "    </tr>\n",
              "    <tr>\n",
              "      <th>12</th>\n",
              "      <td>2014-8</td>\n",
              "      <td>80000.0</td>\n",
              "    </tr>\n",
              "    <tr>\n",
              "      <th>13</th>\n",
              "      <td>2014-9</td>\n",
              "      <td>205000.0</td>\n",
              "    </tr>\n",
              "    <tr>\n",
              "      <th>14</th>\n",
              "      <td>2014-10</td>\n",
              "      <td>156750.0</td>\n",
              "    </tr>\n",
              "  </tbody>\n",
              "</table>\n",
              "</div>"
            ],
            "text/plain": [
              "   id_mutation  valeur_fonciere\n",
              "0       2014-1         251500.0\n",
              "1       2014-2         174500.0\n",
              "3       2014-3         157500.0\n",
              "5       2014-4            280.5\n",
              "6       2014-5          90000.0\n",
              "8       2014-6         370000.0\n",
              "10      2014-7          95000.0\n",
              "12      2014-8          80000.0\n",
              "13      2014-9         205000.0\n",
              "14     2014-10         156750.0"
            ]
          },
          "metadata": {
            "tags": []
          },
          "execution_count": 21
        }
      ]
    },
    {
      "cell_type": "code",
      "metadata": {
        "id": "CGBCEIcaXZ6y",
        "colab_type": "code",
        "outputId": "fea2bdb4-30c5-47a1-bb52-d1cb72a8179e",
        "colab": {
          "base_uri": "https://localhost:8080/",
          "height": 34
        }
      },
      "source": [
        "sales_in_million_euros = distinct_sales['valeur_fonciere'].sum()/1000000\n",
        "\n",
        "print(f'The total amount of money in sales was {sales_in_million_euros:,.0f} million €')"
      ],
      "execution_count": 22,
      "outputs": [
        {
          "output_type": "stream",
          "text": [
            "The total amount of money in sales was 1,202,598 million €\n"
          ],
          "name": "stdout"
        }
      ]
    },
    {
      "cell_type": "markdown",
      "metadata": {
        "id": "U6QT0LzyXZ62",
        "colab_type": "text"
      },
      "source": [
        "-----------\n",
        "## Question N° 2"
      ]
    },
    {
      "cell_type": "markdown",
      "metadata": {
        "id": "hXA7aNzYXZ65",
        "colab_type": "text"
      },
      "source": [
        "### Question 2a (3 points)\n",
        "Your client, a big international corporation, is looking to purchase a property for installing a retail store in the Av. des Champs Elysées, in Paris. They hire you to provide an estimation of the necessary budget to purchase a property based on the data recorded in this dataset. You should only consider transactions involving business properties with a surface bigger than 300 m², "
      ]
    },
    {
      "cell_type": "code",
      "metadata": {
        "id": "kd2Cyvo2XZ68",
        "colab_type": "code",
        "outputId": "e22da9ed-7ba0-4603-c446-aafa5242b5f9",
        "colab": {
          "base_uri": "https://localhost:8080/",
          "height": 359
        }
      },
      "source": [
        "# First, build a view with the relevant data\n",
        "\n",
        "# En premier on reduit le dataset aux données nécessaires\n",
        "# Pour l'instant je n'applique que le filtre \"BUSINESS\", on verra pourquoi\n",
        "\n",
        "sales_2 = sales[(sales['type_local'] == BUSINESS)]\\\n",
        "        [['id_mutation','adresse_numero','adresse_nom_voie','nom_commune','code_postal','code_commune','surface_reelle_bati','valeur_fonciere']]\n",
        "\n",
        "sales_2.head(10)"
      ],
      "execution_count": 23,
      "outputs": [
        {
          "output_type": "execute_result",
          "data": {
            "text/html": [
              "<div>\n",
              "<style scoped>\n",
              "    .dataframe tbody tr th:only-of-type {\n",
              "        vertical-align: middle;\n",
              "    }\n",
              "\n",
              "    .dataframe tbody tr th {\n",
              "        vertical-align: top;\n",
              "    }\n",
              "\n",
              "    .dataframe thead th {\n",
              "        text-align: right;\n",
              "    }\n",
              "</style>\n",
              "<table border=\"1\" class=\"dataframe\">\n",
              "  <thead>\n",
              "    <tr style=\"text-align: right;\">\n",
              "      <th></th>\n",
              "      <th>id_mutation</th>\n",
              "      <th>adresse_numero</th>\n",
              "      <th>adresse_nom_voie</th>\n",
              "      <th>nom_commune</th>\n",
              "      <th>code_postal</th>\n",
              "      <th>code_commune</th>\n",
              "      <th>surface_reelle_bati</th>\n",
              "      <th>valeur_fonciere</th>\n",
              "    </tr>\n",
              "  </thead>\n",
              "  <tbody>\n",
              "    <tr>\n",
              "      <th>139</th>\n",
              "      <td>2014-63</td>\n",
              "      <td>900</td>\n",
              "      <td>RTE DE NEUVILLE</td>\n",
              "      <td>Villereversure</td>\n",
              "      <td>01250</td>\n",
              "      <td>01447</td>\n",
              "      <td>460.0</td>\n",
              "      <td>1.0</td>\n",
              "    </tr>\n",
              "    <tr>\n",
              "      <th>197</th>\n",
              "      <td>2014-89</td>\n",
              "      <td>536</td>\n",
              "      <td>CHE DU PETIT PLAN</td>\n",
              "      <td>Saint-Just</td>\n",
              "      <td>01250</td>\n",
              "      <td>01369</td>\n",
              "      <td>560.0</td>\n",
              "      <td>120000.0</td>\n",
              "    </tr>\n",
              "    <tr>\n",
              "      <th>198</th>\n",
              "      <td>2014-89</td>\n",
              "      <td>354</td>\n",
              "      <td>CHE DU PETIT PLAN</td>\n",
              "      <td>Saint-Just</td>\n",
              "      <td>01250</td>\n",
              "      <td>01369</td>\n",
              "      <td>595.0</td>\n",
              "      <td>120000.0</td>\n",
              "    </tr>\n",
              "    <tr>\n",
              "      <th>215</th>\n",
              "      <td>2014-96</td>\n",
              "      <td>506</td>\n",
              "      <td>GR GRANDE RUE</td>\n",
              "      <td>Attignat</td>\n",
              "      <td>01340</td>\n",
              "      <td>01024</td>\n",
              "      <td>93.0</td>\n",
              "      <td>175000.0</td>\n",
              "    </tr>\n",
              "    <tr>\n",
              "      <th>219</th>\n",
              "      <td>2014-96</td>\n",
              "      <td>506</td>\n",
              "      <td>GR GRANDE RUE</td>\n",
              "      <td>Attignat</td>\n",
              "      <td>01340</td>\n",
              "      <td>01024</td>\n",
              "      <td>31.0</td>\n",
              "      <td>175000.0</td>\n",
              "    </tr>\n",
              "    <tr>\n",
              "      <th>231</th>\n",
              "      <td>2014-99</td>\n",
              "      <td>621</td>\n",
              "      <td>RTE DE CHALON</td>\n",
              "      <td>Saint-Trivier-de-Courtes</td>\n",
              "      <td>01560</td>\n",
              "      <td>01388</td>\n",
              "      <td>646.0</td>\n",
              "      <td>70000.0</td>\n",
              "    </tr>\n",
              "    <tr>\n",
              "      <th>237</th>\n",
              "      <td>2014-101</td>\n",
              "      <td>5425</td>\n",
              "      <td>LES MOISSONNIERS</td>\n",
              "      <td>Saint-Nizier-le-Bouchoux</td>\n",
              "      <td>01560</td>\n",
              "      <td>01380</td>\n",
              "      <td>250.0</td>\n",
              "      <td>90000.0</td>\n",
              "    </tr>\n",
              "    <tr>\n",
              "      <th>286</th>\n",
              "      <td>2014-123</td>\n",
              "      <td>5321</td>\n",
              "      <td>TAILLIS DES COUARDES</td>\n",
              "      <td>Bény</td>\n",
              "      <td>01370</td>\n",
              "      <td>01038</td>\n",
              "      <td>12.0</td>\n",
              "      <td>750.0</td>\n",
              "    </tr>\n",
              "    <tr>\n",
              "      <th>302</th>\n",
              "      <td>2014-130</td>\n",
              "      <td>6</td>\n",
              "      <td>RUE EDGAR  QUINET</td>\n",
              "      <td>Bourg-en-Bresse</td>\n",
              "      <td>01000</td>\n",
              "      <td>01053</td>\n",
              "      <td>72.0</td>\n",
              "      <td>610000.0</td>\n",
              "    </tr>\n",
              "    <tr>\n",
              "      <th>330</th>\n",
              "      <td>2014-140</td>\n",
              "      <td>6590</td>\n",
              "      <td>RUE DES VAREYS</td>\n",
              "      <td>Viriat</td>\n",
              "      <td>01440</td>\n",
              "      <td>01451</td>\n",
              "      <td>1307.0</td>\n",
              "      <td>1.0</td>\n",
              "    </tr>\n",
              "  </tbody>\n",
              "</table>\n",
              "</div>"
            ],
            "text/plain": [
              "    id_mutation adresse_numero      adresse_nom_voie  \\\n",
              "139     2014-63            900       RTE DE NEUVILLE   \n",
              "197     2014-89            536     CHE DU PETIT PLAN   \n",
              "198     2014-89            354     CHE DU PETIT PLAN   \n",
              "215     2014-96            506         GR GRANDE RUE   \n",
              "219     2014-96            506         GR GRANDE RUE   \n",
              "231     2014-99            621         RTE DE CHALON   \n",
              "237    2014-101           5425      LES MOISSONNIERS   \n",
              "286    2014-123           5321  TAILLIS DES COUARDES   \n",
              "302    2014-130              6     RUE EDGAR  QUINET   \n",
              "330    2014-140           6590        RUE DES VAREYS   \n",
              "\n",
              "                  nom_commune code_postal code_commune  surface_reelle_bati  \\\n",
              "139            Villereversure       01250        01447                460.0   \n",
              "197                Saint-Just       01250        01369                560.0   \n",
              "198                Saint-Just       01250        01369                595.0   \n",
              "215                  Attignat       01340        01024                 93.0   \n",
              "219                  Attignat       01340        01024                 31.0   \n",
              "231  Saint-Trivier-de-Courtes       01560        01388                646.0   \n",
              "237  Saint-Nizier-le-Bouchoux       01560        01380                250.0   \n",
              "286                      Bény       01370        01038                 12.0   \n",
              "302           Bourg-en-Bresse       01000        01053                 72.0   \n",
              "330                    Viriat       01440        01451               1307.0   \n",
              "\n",
              "     valeur_fonciere  \n",
              "139              1.0  \n",
              "197         120000.0  \n",
              "198         120000.0  \n",
              "215         175000.0  \n",
              "219         175000.0  \n",
              "231          70000.0  \n",
              "237          90000.0  \n",
              "286            750.0  \n",
              "302         610000.0  \n",
              "330              1.0  "
            ]
          },
          "metadata": {
            "tags": []
          },
          "execution_count": 23
        }
      ]
    },
    {
      "cell_type": "markdown",
      "metadata": {
        "id": "Q6d8qfC-4hP4",
        "colab_type": "text"
      },
      "source": [
        "**POURQUOI seulement BUSINESS**\n",
        "\n",
        "Pourquoi n'a-t-on pas appliqué tout de suite le filtre sur les adresses ?\n",
        "\n",
        "**Il existe des cas tordus où pour une même transaction avec une même valeur j'ai plusieurs surface et surtout plusieurs adresses comme l'exemple ci-dessous :**\n",
        "\n",
        "| id_mutation | adresse_numero | adresse_nom_voie | nom_commune | code_postal | code_commune | surface_reelle_bati | valeur_fonciere |\n",
        "| --- | --- | --- | --- | --- | --- | --- | --- |\n",
        "| 2018-17 | 5234 | AU GROS LOUP | Manziat | 01570 | 01231 | 80000.0 | 295.0 |\n",
        "| 2018-17 | 5536 | AU GROS LOUP | Manziat | 01570 | 01231 | 80000.0 | 390.0 |\n",
        "\n",
        "- Je vais donc faire 2 vues séparées :\n",
        "  1. une qui calcule les surfaces_baties par transaction et valeur_fonciere pour le calcul au m²\n",
        "  2. une qui regroupera les adresses par transaction\n",
        "\n",
        "\n",
        "- Ensuite je joindrais sur l'identifiant de transaction\n",
        "- C'est avec ces vues que je vais appliquer les filtres supplémentaires"
      ]
    },
    {
      "cell_type": "code",
      "metadata": {
        "id": "afh62LvQ4oSY",
        "colab_type": "code",
        "colab": {
          "base_uri": "https://localhost:8080/",
          "height": 359
        },
        "outputId": "f897d852-117e-4741-b3a6-7a7207f746da"
      },
      "source": [
        "# Je profite de la création de la vue adresse pour appliquer les filtres liés à l'adresse\n",
        "# AV DES CHAMPS ELYSEES\n",
        "# A PARIS, il y a plusieurs arrondissement donc le nom de la ville n'est pas direct\n",
        "address_by_trans = sales_2[ (sales_2['adresse_nom_voie'].str.contains('AV DES CHAMPS ELYSEES', regex=False))\n",
        "            & (sales_2['nom_commune'].str.contains('Paris'))]\\\n",
        "            [['id_mutation','adresse_numero','adresse_nom_voie','nom_commune','code_postal','code_commune']]\\\n",
        "            .drop_duplicates()\n",
        "\n",
        "address_by_trans.head(10)              "
      ],
      "execution_count": 24,
      "outputs": [
        {
          "output_type": "execute_result",
          "data": {
            "text/html": [
              "<div>\n",
              "<style scoped>\n",
              "    .dataframe tbody tr th:only-of-type {\n",
              "        vertical-align: middle;\n",
              "    }\n",
              "\n",
              "    .dataframe tbody tr th {\n",
              "        vertical-align: top;\n",
              "    }\n",
              "\n",
              "    .dataframe thead th {\n",
              "        text-align: right;\n",
              "    }\n",
              "</style>\n",
              "<table border=\"1\" class=\"dataframe\">\n",
              "  <thead>\n",
              "    <tr style=\"text-align: right;\">\n",
              "      <th></th>\n",
              "      <th>id_mutation</th>\n",
              "      <th>adresse_numero</th>\n",
              "      <th>adresse_nom_voie</th>\n",
              "      <th>nom_commune</th>\n",
              "      <th>code_postal</th>\n",
              "      <th>code_commune</th>\n",
              "    </tr>\n",
              "  </thead>\n",
              "  <tbody>\n",
              "    <tr>\n",
              "      <th>2461435</th>\n",
              "      <td>2014-1054448</td>\n",
              "      <td>66</td>\n",
              "      <td>AV DES CHAMPS ELYSEES</td>\n",
              "      <td>Paris 8e Arrondissement</td>\n",
              "      <td>75008</td>\n",
              "      <td>75108</td>\n",
              "    </tr>\n",
              "    <tr>\n",
              "      <th>2462031</th>\n",
              "      <td>2014-1054848</td>\n",
              "      <td>66</td>\n",
              "      <td>AV DES CHAMPS ELYSEES</td>\n",
              "      <td>Paris 8e Arrondissement</td>\n",
              "      <td>75008</td>\n",
              "      <td>75108</td>\n",
              "    </tr>\n",
              "    <tr>\n",
              "      <th>2462145</th>\n",
              "      <td>2014-1054922</td>\n",
              "      <td>66</td>\n",
              "      <td>AV DES CHAMPS ELYSEES</td>\n",
              "      <td>Paris 8e Arrondissement</td>\n",
              "      <td>75008</td>\n",
              "      <td>75108</td>\n",
              "    </tr>\n",
              "    <tr>\n",
              "      <th>2462436</th>\n",
              "      <td>2014-1055043</td>\n",
              "      <td>34</td>\n",
              "      <td>AV DES CHAMPS ELYSEES</td>\n",
              "      <td>Paris 8e Arrondissement</td>\n",
              "      <td>75008</td>\n",
              "      <td>75108</td>\n",
              "    </tr>\n",
              "    <tr>\n",
              "      <th>2464657</th>\n",
              "      <td>2014-1056322</td>\n",
              "      <td>63</td>\n",
              "      <td>AV DES CHAMPS ELYSEES</td>\n",
              "      <td>Paris 8e Arrondissement</td>\n",
              "      <td>75008</td>\n",
              "      <td>75108</td>\n",
              "    </tr>\n",
              "    <tr>\n",
              "      <th>2464912</th>\n",
              "      <td>2014-1056494</td>\n",
              "      <td>76</td>\n",
              "      <td>AV DES CHAMPS ELYSEES</td>\n",
              "      <td>Paris 8e Arrondissement</td>\n",
              "      <td>75008</td>\n",
              "      <td>75108</td>\n",
              "    </tr>\n",
              "    <tr>\n",
              "      <th>2689541</th>\n",
              "      <td>2015-1144866</td>\n",
              "      <td>76</td>\n",
              "      <td>AV DES CHAMPS ELYSEES</td>\n",
              "      <td>Paris 8e Arrondissement</td>\n",
              "      <td>75008</td>\n",
              "      <td>75108</td>\n",
              "    </tr>\n",
              "    <tr>\n",
              "      <th>2690340</th>\n",
              "      <td>2015-1145372</td>\n",
              "      <td>76</td>\n",
              "      <td>AV DES CHAMPS ELYSEES</td>\n",
              "      <td>Paris 8e Arrondissement</td>\n",
              "      <td>75008</td>\n",
              "      <td>75108</td>\n",
              "    </tr>\n",
              "    <tr>\n",
              "      <th>2690417</th>\n",
              "      <td>2015-1145429</td>\n",
              "      <td>34</td>\n",
              "      <td>AV DES CHAMPS ELYSEES</td>\n",
              "      <td>Paris 8e Arrondissement</td>\n",
              "      <td>75008</td>\n",
              "      <td>75108</td>\n",
              "    </tr>\n",
              "    <tr>\n",
              "      <th>2691163</th>\n",
              "      <td>2015-1145894</td>\n",
              "      <td>63</td>\n",
              "      <td>AV DES CHAMPS ELYSEES</td>\n",
              "      <td>Paris 8e Arrondissement</td>\n",
              "      <td>75008</td>\n",
              "      <td>75108</td>\n",
              "    </tr>\n",
              "  </tbody>\n",
              "</table>\n",
              "</div>"
            ],
            "text/plain": [
              "          id_mutation adresse_numero       adresse_nom_voie  \\\n",
              "2461435  2014-1054448             66  AV DES CHAMPS ELYSEES   \n",
              "2462031  2014-1054848             66  AV DES CHAMPS ELYSEES   \n",
              "2462145  2014-1054922             66  AV DES CHAMPS ELYSEES   \n",
              "2462436  2014-1055043             34  AV DES CHAMPS ELYSEES   \n",
              "2464657  2014-1056322             63  AV DES CHAMPS ELYSEES   \n",
              "2464912  2014-1056494             76  AV DES CHAMPS ELYSEES   \n",
              "2689541  2015-1144866             76  AV DES CHAMPS ELYSEES   \n",
              "2690340  2015-1145372             76  AV DES CHAMPS ELYSEES   \n",
              "2690417  2015-1145429             34  AV DES CHAMPS ELYSEES   \n",
              "2691163  2015-1145894             63  AV DES CHAMPS ELYSEES   \n",
              "\n",
              "                     nom_commune code_postal code_commune  \n",
              "2461435  Paris 8e Arrondissement       75008        75108  \n",
              "2462031  Paris 8e Arrondissement       75008        75108  \n",
              "2462145  Paris 8e Arrondissement       75008        75108  \n",
              "2462436  Paris 8e Arrondissement       75008        75108  \n",
              "2464657  Paris 8e Arrondissement       75008        75108  \n",
              "2464912  Paris 8e Arrondissement       75008        75108  \n",
              "2689541  Paris 8e Arrondissement       75008        75108  \n",
              "2690340  Paris 8e Arrondissement       75008        75108  \n",
              "2690417  Paris 8e Arrondissement       75008        75108  \n",
              "2691163  Paris 8e Arrondissement       75008        75108  "
            ]
          },
          "metadata": {
            "tags": []
          },
          "execution_count": 24
        }
      ]
    },
    {
      "cell_type": "code",
      "metadata": {
        "id": "FKHOTFGD4sHX",
        "colab_type": "code",
        "colab": {
          "base_uri": "https://localhost:8080/",
          "height": 390
        },
        "outputId": "a06dc696-b7fd-4e7d-e975-eafbccffca5a"
      },
      "source": [
        "# J'applique la fonction d'aggregation pour sommer les surfaces d'une même transaction\n",
        "# on en profite pour renommer la colonne sommée pour ne pas confondre\n",
        "#surface_by_trans = sales_2.groupby(['id_mutation','valeur_fonciere'], sort=False)[['surface_reelle_bati']].sum()\n",
        "\n",
        "surface_by_trans = sales_2.groupby(['id_mutation'], sort=False)\\\n",
        "                    .agg({'valeur_fonciere':'mean', 'surface_reelle_bati': 'sum'})\\\n",
        "                    .rename(columns={'surface_reelle_bati':'surface_reelle_cumulee'})\n",
        "surface_by_trans.head(10)"
      ],
      "execution_count": 25,
      "outputs": [
        {
          "output_type": "execute_result",
          "data": {
            "text/html": [
              "<div>\n",
              "<style scoped>\n",
              "    .dataframe tbody tr th:only-of-type {\n",
              "        vertical-align: middle;\n",
              "    }\n",
              "\n",
              "    .dataframe tbody tr th {\n",
              "        vertical-align: top;\n",
              "    }\n",
              "\n",
              "    .dataframe thead th {\n",
              "        text-align: right;\n",
              "    }\n",
              "</style>\n",
              "<table border=\"1\" class=\"dataframe\">\n",
              "  <thead>\n",
              "    <tr style=\"text-align: right;\">\n",
              "      <th></th>\n",
              "      <th>valeur_fonciere</th>\n",
              "      <th>surface_reelle_cumulee</th>\n",
              "    </tr>\n",
              "    <tr>\n",
              "      <th>id_mutation</th>\n",
              "      <th></th>\n",
              "      <th></th>\n",
              "    </tr>\n",
              "  </thead>\n",
              "  <tbody>\n",
              "    <tr>\n",
              "      <th>2014-63</th>\n",
              "      <td>1.0</td>\n",
              "      <td>460.0</td>\n",
              "    </tr>\n",
              "    <tr>\n",
              "      <th>2014-89</th>\n",
              "      <td>120000.0</td>\n",
              "      <td>1155.0</td>\n",
              "    </tr>\n",
              "    <tr>\n",
              "      <th>2014-96</th>\n",
              "      <td>175000.0</td>\n",
              "      <td>124.0</td>\n",
              "    </tr>\n",
              "    <tr>\n",
              "      <th>2014-99</th>\n",
              "      <td>70000.0</td>\n",
              "      <td>646.0</td>\n",
              "    </tr>\n",
              "    <tr>\n",
              "      <th>2014-101</th>\n",
              "      <td>90000.0</td>\n",
              "      <td>250.0</td>\n",
              "    </tr>\n",
              "    <tr>\n",
              "      <th>2014-123</th>\n",
              "      <td>750.0</td>\n",
              "      <td>12.0</td>\n",
              "    </tr>\n",
              "    <tr>\n",
              "      <th>2014-130</th>\n",
              "      <td>610000.0</td>\n",
              "      <td>72.0</td>\n",
              "    </tr>\n",
              "    <tr>\n",
              "      <th>2014-140</th>\n",
              "      <td>1.0</td>\n",
              "      <td>1307.0</td>\n",
              "    </tr>\n",
              "    <tr>\n",
              "      <th>2014-152</th>\n",
              "      <td>139800.0</td>\n",
              "      <td>323.0</td>\n",
              "    </tr>\n",
              "    <tr>\n",
              "      <th>2014-186</th>\n",
              "      <td>241500.0</td>\n",
              "      <td>0.0</td>\n",
              "    </tr>\n",
              "  </tbody>\n",
              "</table>\n",
              "</div>"
            ],
            "text/plain": [
              "             valeur_fonciere  surface_reelle_cumulee\n",
              "id_mutation                                         \n",
              "2014-63                  1.0                   460.0\n",
              "2014-89             120000.0                  1155.0\n",
              "2014-96             175000.0                   124.0\n",
              "2014-99              70000.0                   646.0\n",
              "2014-101             90000.0                   250.0\n",
              "2014-123               750.0                    12.0\n",
              "2014-130            610000.0                    72.0\n",
              "2014-140                 1.0                  1307.0\n",
              "2014-152            139800.0                   323.0\n",
              "2014-186            241500.0                     0.0"
            ]
          },
          "metadata": {
            "tags": []
          },
          "execution_count": 25
        }
      ]
    },
    {
      "cell_type": "code",
      "metadata": {
        "id": "_xKrSktO4v1F",
        "colab_type": "code",
        "colab": {
          "base_uri": "https://localhost:8080/",
          "height": 390
        },
        "outputId": "2e03cc8a-05fa-44de-e8bc-ecdb838cfc38"
      },
      "source": [
        "#puis j'applique le filtre de 300m² qui s'applique desormais sur la nouvelle colonne sommé\n",
        "surface_by_trans = surface_by_trans[surface_by_trans['surface_reelle_cumulee'] > 300]\n",
        "surface_by_trans.head(10)"
      ],
      "execution_count": 26,
      "outputs": [
        {
          "output_type": "execute_result",
          "data": {
            "text/html": [
              "<div>\n",
              "<style scoped>\n",
              "    .dataframe tbody tr th:only-of-type {\n",
              "        vertical-align: middle;\n",
              "    }\n",
              "\n",
              "    .dataframe tbody tr th {\n",
              "        vertical-align: top;\n",
              "    }\n",
              "\n",
              "    .dataframe thead th {\n",
              "        text-align: right;\n",
              "    }\n",
              "</style>\n",
              "<table border=\"1\" class=\"dataframe\">\n",
              "  <thead>\n",
              "    <tr style=\"text-align: right;\">\n",
              "      <th></th>\n",
              "      <th>valeur_fonciere</th>\n",
              "      <th>surface_reelle_cumulee</th>\n",
              "    </tr>\n",
              "    <tr>\n",
              "      <th>id_mutation</th>\n",
              "      <th></th>\n",
              "      <th></th>\n",
              "    </tr>\n",
              "  </thead>\n",
              "  <tbody>\n",
              "    <tr>\n",
              "      <th>2014-63</th>\n",
              "      <td>1.0</td>\n",
              "      <td>460.0</td>\n",
              "    </tr>\n",
              "    <tr>\n",
              "      <th>2014-89</th>\n",
              "      <td>120000.0</td>\n",
              "      <td>1155.0</td>\n",
              "    </tr>\n",
              "    <tr>\n",
              "      <th>2014-99</th>\n",
              "      <td>70000.0</td>\n",
              "      <td>646.0</td>\n",
              "    </tr>\n",
              "    <tr>\n",
              "      <th>2014-140</th>\n",
              "      <td>1.0</td>\n",
              "      <td>1307.0</td>\n",
              "    </tr>\n",
              "    <tr>\n",
              "      <th>2014-152</th>\n",
              "      <td>139800.0</td>\n",
              "      <td>323.0</td>\n",
              "    </tr>\n",
              "    <tr>\n",
              "      <th>2014-267</th>\n",
              "      <td>284132.0</td>\n",
              "      <td>3136.0</td>\n",
              "    </tr>\n",
              "    <tr>\n",
              "      <th>2014-321</th>\n",
              "      <td>210000.0</td>\n",
              "      <td>635.0</td>\n",
              "    </tr>\n",
              "    <tr>\n",
              "      <th>2014-473</th>\n",
              "      <td>50700.0</td>\n",
              "      <td>832.0</td>\n",
              "    </tr>\n",
              "    <tr>\n",
              "      <th>2014-527</th>\n",
              "      <td>70000.0</td>\n",
              "      <td>602.0</td>\n",
              "    </tr>\n",
              "    <tr>\n",
              "      <th>2014-553</th>\n",
              "      <td>122000.0</td>\n",
              "      <td>323.0</td>\n",
              "    </tr>\n",
              "  </tbody>\n",
              "</table>\n",
              "</div>"
            ],
            "text/plain": [
              "             valeur_fonciere  surface_reelle_cumulee\n",
              "id_mutation                                         \n",
              "2014-63                  1.0                   460.0\n",
              "2014-89             120000.0                  1155.0\n",
              "2014-99              70000.0                   646.0\n",
              "2014-140                 1.0                  1307.0\n",
              "2014-152            139800.0                   323.0\n",
              "2014-267            284132.0                  3136.0\n",
              "2014-321            210000.0                   635.0\n",
              "2014-473             50700.0                   832.0\n",
              "2014-527             70000.0                   602.0\n",
              "2014-553            122000.0                   323.0"
            ]
          },
          "metadata": {
            "tags": []
          },
          "execution_count": 26
        }
      ]
    },
    {
      "cell_type": "code",
      "metadata": {
        "id": "nElHxfNB41ov",
        "colab_type": "code",
        "colab": {
          "base_uri": "https://localhost:8080/",
          "height": 359
        },
        "outputId": "29f64863-95fa-408e-b3b5-d827729fc312"
      },
      "source": [
        "# Jointure des 2 datafram\n",
        "# cette jointure permettra indirectemnt d'appliqer les filtres de l'adrese sur le dataframe des données calculées\n",
        "q2_filtered = address_by_trans.join(surface_by_trans, on='id_mutation', how='inner')\n",
        "q2_filtered.head(10)"
      ],
      "execution_count": 27,
      "outputs": [
        {
          "output_type": "execute_result",
          "data": {
            "text/html": [
              "<div>\n",
              "<style scoped>\n",
              "    .dataframe tbody tr th:only-of-type {\n",
              "        vertical-align: middle;\n",
              "    }\n",
              "\n",
              "    .dataframe tbody tr th {\n",
              "        vertical-align: top;\n",
              "    }\n",
              "\n",
              "    .dataframe thead th {\n",
              "        text-align: right;\n",
              "    }\n",
              "</style>\n",
              "<table border=\"1\" class=\"dataframe\">\n",
              "  <thead>\n",
              "    <tr style=\"text-align: right;\">\n",
              "      <th></th>\n",
              "      <th>id_mutation</th>\n",
              "      <th>adresse_numero</th>\n",
              "      <th>adresse_nom_voie</th>\n",
              "      <th>nom_commune</th>\n",
              "      <th>code_postal</th>\n",
              "      <th>code_commune</th>\n",
              "      <th>valeur_fonciere</th>\n",
              "      <th>surface_reelle_cumulee</th>\n",
              "    </tr>\n",
              "  </thead>\n",
              "  <tbody>\n",
              "    <tr>\n",
              "      <th>2691163</th>\n",
              "      <td>2015-1145894</td>\n",
              "      <td>63</td>\n",
              "      <td>AV DES CHAMPS ELYSEES</td>\n",
              "      <td>Paris 8e Arrondissement</td>\n",
              "      <td>75008</td>\n",
              "      <td>75108</td>\n",
              "      <td>6000000.0</td>\n",
              "      <td>677.0</td>\n",
              "    </tr>\n",
              "    <tr>\n",
              "      <th>2691897</th>\n",
              "      <td>2015-1146366</td>\n",
              "      <td>102</td>\n",
              "      <td>AV DES CHAMPS ELYSEES</td>\n",
              "      <td>Paris 8e Arrondissement</td>\n",
              "      <td>75008</td>\n",
              "      <td>75108</td>\n",
              "      <td>41303366.0</td>\n",
              "      <td>842.0</td>\n",
              "    </tr>\n",
              "    <tr>\n",
              "      <th>2880379</th>\n",
              "      <td>2016-1234297</td>\n",
              "      <td>66</td>\n",
              "      <td>AV DES CHAMPS ELYSEES</td>\n",
              "      <td>Paris 8e Arrondissement</td>\n",
              "      <td>75008</td>\n",
              "      <td>75108</td>\n",
              "      <td>8983000.0</td>\n",
              "      <td>1175.0</td>\n",
              "    </tr>\n",
              "    <tr>\n",
              "      <th>2882219</th>\n",
              "      <td>2016-1235506</td>\n",
              "      <td>66</td>\n",
              "      <td>AV DES CHAMPS ELYSEES</td>\n",
              "      <td>Paris 8e Arrondissement</td>\n",
              "      <td>75008</td>\n",
              "      <td>75108</td>\n",
              "      <td>19404926.0</td>\n",
              "      <td>1763.0</td>\n",
              "    </tr>\n",
              "    <tr>\n",
              "      <th>2998574</th>\n",
              "      <td>2018-1276869</td>\n",
              "      <td>114</td>\n",
              "      <td>AV DES CHAMPS ELYSEES</td>\n",
              "      <td>Paris 8e Arrondissement</td>\n",
              "      <td>75008</td>\n",
              "      <td>75108</td>\n",
              "      <td>598015740.0</td>\n",
              "      <td>8455.0</td>\n",
              "    </tr>\n",
              "    <tr>\n",
              "      <th>2998892</th>\n",
              "      <td>2018-1277084</td>\n",
              "      <td>66</td>\n",
              "      <td>AV DES CHAMPS ELYSEES</td>\n",
              "      <td>Paris 8e Arrondissement</td>\n",
              "      <td>75008</td>\n",
              "      <td>75108</td>\n",
              "      <td>77000000.0</td>\n",
              "      <td>4584.0</td>\n",
              "    </tr>\n",
              "    <tr>\n",
              "      <th>3000713</th>\n",
              "      <td>2018-1278313</td>\n",
              "      <td>144</td>\n",
              "      <td>AV DES CHAMPS ELYSEES</td>\n",
              "      <td>Paris 8e Arrondissement</td>\n",
              "      <td>75008</td>\n",
              "      <td>75108</td>\n",
              "      <td>310600000.0</td>\n",
              "      <td>13834.0</td>\n",
              "    </tr>\n",
              "    <tr>\n",
              "      <th>3000778</th>\n",
              "      <td>2018-1278313</td>\n",
              "      <td>150</td>\n",
              "      <td>AV DES CHAMPS ELYSEES</td>\n",
              "      <td>Paris 8e Arrondissement</td>\n",
              "      <td>75008</td>\n",
              "      <td>75108</td>\n",
              "      <td>310600000.0</td>\n",
              "      <td>13834.0</td>\n",
              "    </tr>\n",
              "    <tr>\n",
              "      <th>3001776</th>\n",
              "      <td>2018-1278906</td>\n",
              "      <td>62</td>\n",
              "      <td>AV DES CHAMPS ELYSEES</td>\n",
              "      <td>Paris 8e Arrondissement</td>\n",
              "      <td>75008</td>\n",
              "      <td>75108</td>\n",
              "      <td>4500000.0</td>\n",
              "      <td>2211.0</td>\n",
              "    </tr>\n",
              "    <tr>\n",
              "      <th>997804</th>\n",
              "      <td>2019-433060</td>\n",
              "      <td>66</td>\n",
              "      <td>AV DES CHAMPS ELYSEES</td>\n",
              "      <td>Paris 8e Arrondissement</td>\n",
              "      <td>75008</td>\n",
              "      <td>75108</td>\n",
              "      <td>21000000.0</td>\n",
              "      <td>1941.0</td>\n",
              "    </tr>\n",
              "  </tbody>\n",
              "</table>\n",
              "</div>"
            ],
            "text/plain": [
              "          id_mutation adresse_numero       adresse_nom_voie  \\\n",
              "2691163  2015-1145894             63  AV DES CHAMPS ELYSEES   \n",
              "2691897  2015-1146366            102  AV DES CHAMPS ELYSEES   \n",
              "2880379  2016-1234297             66  AV DES CHAMPS ELYSEES   \n",
              "2882219  2016-1235506             66  AV DES CHAMPS ELYSEES   \n",
              "2998574  2018-1276869            114  AV DES CHAMPS ELYSEES   \n",
              "2998892  2018-1277084             66  AV DES CHAMPS ELYSEES   \n",
              "3000713  2018-1278313            144  AV DES CHAMPS ELYSEES   \n",
              "3000778  2018-1278313            150  AV DES CHAMPS ELYSEES   \n",
              "3001776  2018-1278906             62  AV DES CHAMPS ELYSEES   \n",
              "997804    2019-433060             66  AV DES CHAMPS ELYSEES   \n",
              "\n",
              "                     nom_commune code_postal code_commune  valeur_fonciere  \\\n",
              "2691163  Paris 8e Arrondissement       75008        75108        6000000.0   \n",
              "2691897  Paris 8e Arrondissement       75008        75108       41303366.0   \n",
              "2880379  Paris 8e Arrondissement       75008        75108        8983000.0   \n",
              "2882219  Paris 8e Arrondissement       75008        75108       19404926.0   \n",
              "2998574  Paris 8e Arrondissement       75008        75108      598015740.0   \n",
              "2998892  Paris 8e Arrondissement       75008        75108       77000000.0   \n",
              "3000713  Paris 8e Arrondissement       75008        75108      310600000.0   \n",
              "3000778  Paris 8e Arrondissement       75008        75108      310600000.0   \n",
              "3001776  Paris 8e Arrondissement       75008        75108        4500000.0   \n",
              "997804   Paris 8e Arrondissement       75008        75108       21000000.0   \n",
              "\n",
              "         surface_reelle_cumulee  \n",
              "2691163                   677.0  \n",
              "2691897                   842.0  \n",
              "2880379                  1175.0  \n",
              "2882219                  1763.0  \n",
              "2998574                  8455.0  \n",
              "2998892                  4584.0  \n",
              "3000713                 13834.0  \n",
              "3000778                 13834.0  \n",
              "3001776                  2211.0  \n",
              "997804                   1941.0  "
            ]
          },
          "metadata": {
            "tags": []
          },
          "execution_count": 27
        }
      ]
    },
    {
      "cell_type": "code",
      "metadata": {
        "id": "p5EuLByQXZ7I",
        "colab_type": "code",
        "colab": {}
      },
      "source": [
        "# Select and aggregate the relevant data\n",
        "# On va faire une moyenne des prix au mètre carré de toutes les transactions\n",
        "sqm = q2_filtered['valeur_fonciere']/q2_filtered['surface_reelle_cumulee']\n",
        "\n",
        "# Compute the average of the cost per square meter for each transaction\n",
        "mean_cost_per_sq_meter = sqm.mean()"
      ],
      "execution_count": 0,
      "outputs": []
    },
    {
      "cell_type": "code",
      "metadata": {
        "id": "loCVlP7rXZ7T",
        "colab_type": "code",
        "outputId": "b5e7c94c-caac-4973-d49c-e4a1f70a861e",
        "colab": {
          "base_uri": "https://localhost:8080/",
          "height": 34
        }
      },
      "source": [
        "print(f'The average observed cost per square meter, for business bigger than 300 m² is {mean_cost_per_sq_meter:,.0f} €')"
      ],
      "execution_count": 29,
      "outputs": [
        {
          "output_type": "stream",
          "text": [
            "The average observed cost per square meter, for business bigger than 300 m² is 22,185 €\n"
          ],
          "name": "stdout"
        }
      ]
    },
    {
      "cell_type": "markdown",
      "metadata": {
        "id": "Fpy78_bf5DTJ",
        "colab_type": "text"
      },
      "source": [
        "### Remarque :\n",
        "Meme si ce n'est sans doute pas le cas sur Paris.\n",
        "Pour une étude plus complète il faudrait faire attention aux transactions qui ont lieu pou r 1€ symbolique, car cela ppeut fortement faussé ces estimations.\n",
        "    \n",
        "Dans une logique de Data-Minig, il audrait sans doute exclure ces données.\n",
        "    \n",
        "**Exemple :**\n",
        "    \n",
        "| id_mutation | adresse_numero | adresse_nom_voie | nom_commune | code_postal | code_commune | surface_reelle_bati | valeur_fonciere |\n",
        "| --- | --- | --- | --- | --- | --- | --- | --- |\n",
        "| 2018-24 | 5266 | SAINT AMOUZE | Montagnat | 1250 | 1254 | 917.0 | 1.0 |\n",
        "| 2018-24 | 5266 | SAINT AMOUZE | Montagnat | 1250 | 1254 | 650.0 | 1.0 |\n"
      ]
    },
    {
      "cell_type": "markdown",
      "metadata": {
        "id": "rmK34A8IXZ7c",
        "colab_type": "text"
      },
      "source": [
        "### Question 2b (3 points)\n",
        "\n",
        "Your customer also wants to know how much money was needed for the most expensive transaction and the address of the property. Can you provide them that information?"
      ]
    },
    {
      "cell_type": "code",
      "metadata": {
        "id": "qRpztY6ua_m-",
        "colab_type": "code",
        "outputId": "c3dc6a6a-82d4-4a53-83cd-f0df2733c27c",
        "colab": {
          "base_uri": "https://localhost:8080/",
          "height": 204
        }
      },
      "source": [
        "# Your code here\n",
        "\n",
        "# Pour avoir une adresse complète et pour mettre en oeuvre l'ajout de colonnes vus en cours\n",
        "# On va créer une nouvelle colonne qui reprend l'adresse complète\n",
        "q2_filtered['adresse_complete'] = q2_filtered['adresse_numero'] + ' ' + \\\n",
        "                                q2_filtered['adresse_nom_voie'] + ' - '+ \\\n",
        "                                q2_filtered['code_postal'] +' '+ q2_filtered['nom_commune']\n",
        "\n",
        "q2_filtered.head(5)"
      ],
      "execution_count": 30,
      "outputs": [
        {
          "output_type": "execute_result",
          "data": {
            "text/html": [
              "<div>\n",
              "<style scoped>\n",
              "    .dataframe tbody tr th:only-of-type {\n",
              "        vertical-align: middle;\n",
              "    }\n",
              "\n",
              "    .dataframe tbody tr th {\n",
              "        vertical-align: top;\n",
              "    }\n",
              "\n",
              "    .dataframe thead th {\n",
              "        text-align: right;\n",
              "    }\n",
              "</style>\n",
              "<table border=\"1\" class=\"dataframe\">\n",
              "  <thead>\n",
              "    <tr style=\"text-align: right;\">\n",
              "      <th></th>\n",
              "      <th>id_mutation</th>\n",
              "      <th>adresse_numero</th>\n",
              "      <th>adresse_nom_voie</th>\n",
              "      <th>nom_commune</th>\n",
              "      <th>code_postal</th>\n",
              "      <th>code_commune</th>\n",
              "      <th>valeur_fonciere</th>\n",
              "      <th>surface_reelle_cumulee</th>\n",
              "      <th>adresse_complete</th>\n",
              "    </tr>\n",
              "  </thead>\n",
              "  <tbody>\n",
              "    <tr>\n",
              "      <th>2691163</th>\n",
              "      <td>2015-1145894</td>\n",
              "      <td>63</td>\n",
              "      <td>AV DES CHAMPS ELYSEES</td>\n",
              "      <td>Paris 8e Arrondissement</td>\n",
              "      <td>75008</td>\n",
              "      <td>75108</td>\n",
              "      <td>6000000.0</td>\n",
              "      <td>677.0</td>\n",
              "      <td>63 AV DES CHAMPS ELYSEES - 75008 Paris 8e Arro...</td>\n",
              "    </tr>\n",
              "    <tr>\n",
              "      <th>2691897</th>\n",
              "      <td>2015-1146366</td>\n",
              "      <td>102</td>\n",
              "      <td>AV DES CHAMPS ELYSEES</td>\n",
              "      <td>Paris 8e Arrondissement</td>\n",
              "      <td>75008</td>\n",
              "      <td>75108</td>\n",
              "      <td>41303366.0</td>\n",
              "      <td>842.0</td>\n",
              "      <td>102 AV DES CHAMPS ELYSEES - 75008 Paris 8e Arr...</td>\n",
              "    </tr>\n",
              "    <tr>\n",
              "      <th>2880379</th>\n",
              "      <td>2016-1234297</td>\n",
              "      <td>66</td>\n",
              "      <td>AV DES CHAMPS ELYSEES</td>\n",
              "      <td>Paris 8e Arrondissement</td>\n",
              "      <td>75008</td>\n",
              "      <td>75108</td>\n",
              "      <td>8983000.0</td>\n",
              "      <td>1175.0</td>\n",
              "      <td>66 AV DES CHAMPS ELYSEES - 75008 Paris 8e Arro...</td>\n",
              "    </tr>\n",
              "    <tr>\n",
              "      <th>2882219</th>\n",
              "      <td>2016-1235506</td>\n",
              "      <td>66</td>\n",
              "      <td>AV DES CHAMPS ELYSEES</td>\n",
              "      <td>Paris 8e Arrondissement</td>\n",
              "      <td>75008</td>\n",
              "      <td>75108</td>\n",
              "      <td>19404926.0</td>\n",
              "      <td>1763.0</td>\n",
              "      <td>66 AV DES CHAMPS ELYSEES - 75008 Paris 8e Arro...</td>\n",
              "    </tr>\n",
              "    <tr>\n",
              "      <th>2998574</th>\n",
              "      <td>2018-1276869</td>\n",
              "      <td>114</td>\n",
              "      <td>AV DES CHAMPS ELYSEES</td>\n",
              "      <td>Paris 8e Arrondissement</td>\n",
              "      <td>75008</td>\n",
              "      <td>75108</td>\n",
              "      <td>598015740.0</td>\n",
              "      <td>8455.0</td>\n",
              "      <td>114 AV DES CHAMPS ELYSEES - 75008 Paris 8e Arr...</td>\n",
              "    </tr>\n",
              "  </tbody>\n",
              "</table>\n",
              "</div>"
            ],
            "text/plain": [
              "          id_mutation adresse_numero       adresse_nom_voie  \\\n",
              "2691163  2015-1145894             63  AV DES CHAMPS ELYSEES   \n",
              "2691897  2015-1146366            102  AV DES CHAMPS ELYSEES   \n",
              "2880379  2016-1234297             66  AV DES CHAMPS ELYSEES   \n",
              "2882219  2016-1235506             66  AV DES CHAMPS ELYSEES   \n",
              "2998574  2018-1276869            114  AV DES CHAMPS ELYSEES   \n",
              "\n",
              "                     nom_commune code_postal code_commune  valeur_fonciere  \\\n",
              "2691163  Paris 8e Arrondissement       75008        75108        6000000.0   \n",
              "2691897  Paris 8e Arrondissement       75008        75108       41303366.0   \n",
              "2880379  Paris 8e Arrondissement       75008        75108        8983000.0   \n",
              "2882219  Paris 8e Arrondissement       75008        75108       19404926.0   \n",
              "2998574  Paris 8e Arrondissement       75008        75108      598015740.0   \n",
              "\n",
              "         surface_reelle_cumulee  \\\n",
              "2691163                   677.0   \n",
              "2691897                   842.0   \n",
              "2880379                  1175.0   \n",
              "2882219                  1763.0   \n",
              "2998574                  8455.0   \n",
              "\n",
              "                                          adresse_complete  \n",
              "2691163  63 AV DES CHAMPS ELYSEES - 75008 Paris 8e Arro...  \n",
              "2691897  102 AV DES CHAMPS ELYSEES - 75008 Paris 8e Arr...  \n",
              "2880379  66 AV DES CHAMPS ELYSEES - 75008 Paris 8e Arro...  \n",
              "2882219  66 AV DES CHAMPS ELYSEES - 75008 Paris 8e Arro...  \n",
              "2998574  114 AV DES CHAMPS ELYSEES - 75008 Paris 8e Arr...  "
            ]
          },
          "metadata": {
            "tags": []
          },
          "execution_count": 30
        }
      ]
    },
    {
      "cell_type": "code",
      "metadata": {
        "id": "7X5DJevfXZ7e",
        "colab_type": "code",
        "outputId": "7b949788-4f8e-4c54-cd4e-6c2ac80cff52",
        "colab": {
          "base_uri": "https://localhost:8080/",
          "height": 204
        }
      },
      "source": [
        "\n",
        "max_trans = q2_filtered[q2_filtered['valeur_fonciere'] == q2_filtered['valeur_fonciere'].max()]\n",
        "print(max_trans)\n",
        "\n",
        "max_cost = int(max_trans['valeur_fonciere'].values)\n",
        "address  = str(max_trans['adresse_complete'].values)"
      ],
      "execution_count": 31,
      "outputs": [
        {
          "output_type": "stream",
          "text": [
            "          id_mutation adresse_numero       adresse_nom_voie  \\\n",
            "2998574  2018-1276869            114  AV DES CHAMPS ELYSEES   \n",
            "\n",
            "                     nom_commune code_postal code_commune  valeur_fonciere  \\\n",
            "2998574  Paris 8e Arrondissement       75008        75108      598015740.0   \n",
            "\n",
            "         surface_reelle_cumulee  \\\n",
            "2998574                  8455.0   \n",
            "\n",
            "                                          adresse_complete  \n",
            "2998574  114 AV DES CHAMPS ELYSEES - 75008 Paris 8e Arr...  \n"
          ],
          "name": "stdout"
        }
      ]
    },
    {
      "cell_type": "code",
      "metadata": {
        "id": "m0eqx4DJXZ7r",
        "colab_type": "code",
        "outputId": "a7cd648d-1d12-4b17-a6ae-1a8c3ce39c11",
        "colab": {
          "base_uri": "https://localhost:8080/",
          "height": 34
        }
      },
      "source": [
        "print(f'The cost of the biggest sale transaction was {max_cost/1_000_000:,.0f} m€ for a property located at {address}')"
      ],
      "execution_count": 32,
      "outputs": [
        {
          "output_type": "stream",
          "text": [
            "The cost of the biggest sale transaction was 598 m€ for a property located at ['114 AV DES CHAMPS ELYSEES - 75008 Paris 8e Arrondissement']\n"
          ],
          "name": "stdout"
        }
      ]
    },
    {
      "cell_type": "markdown",
      "metadata": {
        "id": "uxr8Pfo0XZ7w",
        "colab_type": "text"
      },
      "source": [
        "### Question 2c (bonus: 1 point)\n",
        "Can you tell what store is now located at the address found in your answer for question 2b?"
      ]
    },
    {
      "cell_type": "markdown",
      "metadata": {
        "id": "NdrGkR0Y5f5D",
        "colab_type": "text"
      },
      "source": [
        "The Store located *'114 AVENUE des CHAMPS ELYSEES, PARIS'* is **THE APPLE STORE**\n",
        "\n",
        "\n",
        "<a href =\"https://www.apple.com/fr/retail/champs-elysees/?cid=aos-fr-seo-maps\"><img src=\"https://www.apple.com/fr/retail/champs-elysees/images/hero_thumb.jpg\"></a>"
      ]
    },
    {
      "cell_type": "markdown",
      "metadata": {
        "id": "MqaAuvO3E2Xv",
        "colab_type": "text"
      },
      "source": [
        ""
      ]
    }
  ]
}